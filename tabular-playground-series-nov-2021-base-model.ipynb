{
 "cells": [
  {
   "cell_type": "code",
   "execution_count": 1,
   "id": "27de9103",
   "metadata": {
    "_cell_guid": "b1076dfc-b9ad-4769-8c92-a6c4dae69d19",
    "_uuid": "8f2839f25d086af736a60e9eeb907d3b93b6e0e5",
    "execution": {
     "iopub.execute_input": "2021-11-25T20:23:53.712135Z",
     "iopub.status.busy": "2021-11-25T20:23:53.711465Z",
     "iopub.status.idle": "2021-11-25T20:23:53.716332Z",
     "shell.execute_reply": "2021-11-25T20:23:53.716739Z",
     "shell.execute_reply.started": "2021-11-25T20:16:49.494536Z"
    },
    "papermill": {
     "duration": 0.048619,
     "end_time": "2021-11-25T20:23:53.717073",
     "exception": false,
     "start_time": "2021-11-25T20:23:53.668454",
     "status": "completed"
    },
    "tags": []
   },
   "outputs": [
    {
     "name": "stdout",
     "output_type": "stream",
     "text": [
      "/kaggle/input/tabular-playground-series-nov-2021/sample_submission.csv\n",
      "/kaggle/input/tabular-playground-series-nov-2021/train.csv\n",
      "/kaggle/input/tabular-playground-series-nov-2021/test.csv\n"
     ]
    }
   ],
   "source": [
    "# This Python 3 environment comes with many helpful analytics libraries installed\n",
    "# It is defined by the kaggle/python Docker image: https://github.com/kaggle/docker-python\n",
    "# For example, here's several helpful packages to load\n",
    "\n",
    "import numpy as np # linear algebra\n",
    "import pandas as pd # data processing, CSV file I/O (e.g. pd.read_csv)\n",
    "\n",
    "# Input data files are available in the read-only \"../input/\" directory\n",
    "# For example, running this (by clicking run or pressing Shift+Enter) will list all files under the input directory\n",
    "\n",
    "import os\n",
    "for dirname, _, filenames in os.walk('/kaggle/input'):\n",
    "    for filename in filenames:\n",
    "        print(os.path.join(dirname, filename))\n",
    "\n",
    "# You can write up to 20GB to the current directory (/kaggle/working/) that gets preserved as output when you create a version using \"Save & Run All\" \n",
    "# You can also write temporary files to /kaggle/temp/, but they won't be saved outside of the current session"
   ]
  },
  {
   "cell_type": "markdown",
   "id": "3dd43e83",
   "metadata": {
    "papermill": {
     "duration": 0.032926,
     "end_time": "2021-11-25T20:23:53.782239",
     "exception": false,
     "start_time": "2021-11-25T20:23:53.749313",
     "status": "completed"
    },
    "tags": []
   },
   "source": [
    "##### Display Setting "
   ]
  },
  {
   "cell_type": "markdown",
   "id": "942e5377",
   "metadata": {
    "papermill": {
     "duration": 0.032381,
     "end_time": "2021-11-25T20:23:53.845948",
     "exception": false,
     "start_time": "2021-11-25T20:23:53.813567",
     "status": "completed"
    },
    "tags": []
   },
   "source": [
    "This we set 103 the maximum feature length so that all the features can be vissible by scrolling in the output window "
   ]
  },
  {
   "cell_type": "code",
   "execution_count": 2,
   "id": "a93db191",
   "metadata": {
    "execution": {
     "iopub.execute_input": "2021-11-25T20:23:53.912086Z",
     "iopub.status.busy": "2021-11-25T20:23:53.911420Z",
     "iopub.status.idle": "2021-11-25T20:23:53.914656Z",
     "shell.execute_reply": "2021-11-25T20:23:53.915133Z",
     "shell.execute_reply.started": "2021-11-25T20:16:49.508116Z"
    },
    "papermill": {
     "duration": 0.038136,
     "end_time": "2021-11-25T20:23:53.915309",
     "exception": false,
     "start_time": "2021-11-25T20:23:53.877173",
     "status": "completed"
    },
    "tags": []
   },
   "outputs": [],
   "source": [
    "pd.set_option('display.max_columns',120) # setting the visulaization on columns\n",
    "pd.set_option('display.max_rows',120)\n",
    "pd.set_option(\"display.max_colwidth\",100)"
   ]
  },
  {
   "cell_type": "markdown",
   "id": "11d576a6",
   "metadata": {
    "papermill": {
     "duration": 0.031023,
     "end_time": "2021-11-25T20:23:53.979403",
     "exception": false,
     "start_time": "2021-11-25T20:23:53.948380",
     "status": "completed"
    },
    "tags": []
   },
   "source": [
    "# IMPORTING LIBRARIES"
   ]
  },
  {
   "cell_type": "code",
   "execution_count": 3,
   "id": "7a327c30",
   "metadata": {
    "execution": {
     "iopub.execute_input": "2021-11-25T20:23:54.045153Z",
     "iopub.status.busy": "2021-11-25T20:23:54.044512Z",
     "iopub.status.idle": "2021-11-25T20:23:55.538673Z",
     "shell.execute_reply": "2021-11-25T20:23:55.539262Z",
     "shell.execute_reply.started": "2021-11-25T20:16:49.521438Z"
    },
    "papermill": {
     "duration": 1.528755,
     "end_time": "2021-11-25T20:23:55.539450",
     "exception": false,
     "start_time": "2021-11-25T20:23:54.010695",
     "status": "completed"
    },
    "tags": []
   },
   "outputs": [
    {
     "data": {
      "text/html": [
       "<style type='text/css'>\n",
       ".datatable table.frame { margin-bottom: 0; }\n",
       ".datatable table.frame thead { border-bottom: none; }\n",
       ".datatable table.frame tr.coltypes td {  color: #FFFFFF;  line-height: 6px;  padding: 0 0.5em;}\n",
       ".datatable .bool    { background: #DDDD99; }\n",
       ".datatable .object  { background: #565656; }\n",
       ".datatable .int     { background: #5D9E5D; }\n",
       ".datatable .float   { background: #4040CC; }\n",
       ".datatable .str     { background: #CC4040; }\n",
       ".datatable .time    { background: #40CC40; }\n",
       ".datatable .row_index {  background: var(--jp-border-color3);  border-right: 1px solid var(--jp-border-color0);  color: var(--jp-ui-font-color3);  font-size: 9px;}\n",
       ".datatable .frame tbody td { text-align: left; }\n",
       ".datatable .frame tr.coltypes .row_index {  background: var(--jp-border-color0);}\n",
       ".datatable th:nth-child(2) { padding-left: 12px; }\n",
       ".datatable .hellipsis {  color: var(--jp-cell-editor-border-color);}\n",
       ".datatable .vellipsis {  background: var(--jp-layout-color0);  color: var(--jp-cell-editor-border-color);}\n",
       ".datatable .na {  color: var(--jp-cell-editor-border-color);  font-size: 80%;}\n",
       ".datatable .sp {  opacity: 0.25;}\n",
       ".datatable .footer { font-size: 9px; }\n",
       ".datatable .frame_dimensions {  background: var(--jp-border-color3);  border-top: 1px solid var(--jp-border-color0);  color: var(--jp-ui-font-color3);  display: inline-block;  opacity: 0.6;  padding: 1px 10px 1px 5px;}\n",
       "</style>\n"
      ],
      "text/plain": [
       "<IPython.core.display.HTML object>"
      ]
     },
     "metadata": {},
     "output_type": "display_data"
    }
   ],
   "source": [
    "import numpy as np # Linear algebra.\n",
    "import scipy.stats as stat\n",
    "import pandas as pd # Data processing, CSV file I/O (e.g. pd.read_csv).\n",
    "import datatable as dt # Data processing, CSV file I/O (e.g. dt.fread).\n",
    "\n",
    "\n",
    "# Visualization.\n",
    "import seaborn as sns \n",
    "import matplotlib.pyplot as plt \n",
    "\n",
    "# Machine Learning \n",
    "\n",
    "from sklearn.linear_model import LogisticRegression\n",
    "from sklearn.svm import LinearSVC\n",
    "from sklearn.svm import SVC\n",
    "from sklearn.calibration import CalibratedClassifierCV\n",
    "from sklearn.naive_bayes import GaussianNB\n",
    "from sklearn.linear_model import SGDClassifier\n",
    "from xgboost import XGBClassifier\n",
    "from sklearn.tree import DecisionTreeClassifier\n",
    "from sklearn.preprocessing import StandardScaler\n",
    "from sklearn.neural_network import MLPClassifier\n",
    "from sklearn.neighbors import KNeighborsClassifier\n",
    "from sklearn.preprocessing import PowerTransformer\n",
    "from sklearn.linear_model import LogisticRegression\n",
    "from sklearn.discriminant_analysis import LinearDiscriminantAnalysis\n",
    "from sklearn.model_selection import GridSearchCV, cross_val_score, StratifiedKFold, learning_curve\n",
    "from sklearn.ensemble import RandomForestClassifier, AdaBoostClassifier, GradientBoostingClassifier, ExtraTreesClassifier, VotingClassifier\n",
    "\n",
    "from sklearn.preprocessing import StandardScaler\n",
    "from sklearn.model_selection import StratifiedKFold\n",
    "from sklearn.metrics import roc_curve, auc\n",
    "from sklearn.pipeline import make_pipeline\n",
    "\n",
    "from copy import deepcopy\n",
    "import warnings\n",
    "warnings.filterwarnings('ignore')\n"
   ]
  },
  {
   "cell_type": "markdown",
   "id": "611ab525",
   "metadata": {
    "papermill": {
     "duration": 0.089611,
     "end_time": "2021-11-25T20:23:55.661739",
     "exception": false,
     "start_time": "2021-11-25T20:23:55.572128",
     "status": "completed"
    },
    "tags": []
   },
   "source": [
    "# LOAD DATA "
   ]
  },
  {
   "cell_type": "code",
   "execution_count": 4,
   "id": "e225e216",
   "metadata": {
    "execution": {
     "iopub.execute_input": "2021-11-25T20:23:55.730334Z",
     "iopub.status.busy": "2021-11-25T20:23:55.729263Z",
     "iopub.status.idle": "2021-11-25T20:24:02.453507Z",
     "shell.execute_reply": "2021-11-25T20:24:02.454002Z",
     "shell.execute_reply.started": "2021-11-25T20:16:49.535855Z"
    },
    "papermill": {
     "duration": 6.759534,
     "end_time": "2021-11-25T20:24:02.454215",
     "exception": false,
     "start_time": "2021-11-25T20:23:55.694681",
     "status": "completed"
    },
    "tags": []
   },
   "outputs": [
    {
     "name": "stdout",
     "output_type": "stream",
     "text": [
      "<class 'pandas.core.frame.DataFrame'>\n",
      "RangeIndex: 600000 entries, 0 to 599999\n",
      "Columns: 102 entries, id to target\n",
      "dtypes: float64(100), int32(2)\n",
      "memory usage: 462.3 MB\n",
      "None\n",
      "\n",
      "\n"
     ]
    }
   ],
   "source": [
    "df_train =dt.fread('../input/tabular-playground-series-nov-2021/train.csv').to_pandas()\n",
    "df_test = dt.fread('../input/tabular-playground-series-nov-2021/test.csv').to_pandas()\n",
    "submission = pd.read_csv('../input/tabular-playground-series-nov-2021/sample_submission.csv')\n",
    "\n",
    "df_train['target'] = df_train['target'].astype('int32') # Datatable reads target as bool by default.\n",
    "print(f'{df_train.info()}\\n\\n')"
   ]
  },
  {
   "cell_type": "code",
   "execution_count": 5,
   "id": "1e324619",
   "metadata": {
    "execution": {
     "iopub.execute_input": "2021-11-25T20:24:02.522435Z",
     "iopub.status.busy": "2021-11-25T20:24:02.521761Z",
     "iopub.status.idle": "2021-11-25T20:24:02.526587Z",
     "shell.execute_reply": "2021-11-25T20:24:02.527057Z",
     "shell.execute_reply.started": "2021-11-25T20:16:52.107099Z"
    },
    "papermill": {
     "duration": 0.040679,
     "end_time": "2021-11-25T20:24:02.527227",
     "exception": false,
     "start_time": "2021-11-25T20:24:02.486548",
     "status": "completed"
    },
    "tags": []
   },
   "outputs": [
    {
     "data": {
      "text/plain": [
       "((600000, 102), (540000, 101))"
      ]
     },
     "execution_count": 5,
     "metadata": {},
     "output_type": "execute_result"
    }
   ],
   "source": [
    "df_train.shape,df_test.shape"
   ]
  },
  {
   "cell_type": "code",
   "execution_count": 6,
   "id": "fc2603c1",
   "metadata": {
    "execution": {
     "iopub.execute_input": "2021-11-25T20:24:02.595170Z",
     "iopub.status.busy": "2021-11-25T20:24:02.594544Z",
     "iopub.status.idle": "2021-11-25T20:24:02.605169Z",
     "shell.execute_reply": "2021-11-25T20:24:02.604609Z",
     "shell.execute_reply.started": "2021-11-25T20:16:52.114621Z"
    },
    "papermill": {
     "duration": 0.045605,
     "end_time": "2021-11-25T20:24:02.605322",
     "exception": false,
     "start_time": "2021-11-25T20:24:02.559717",
     "status": "completed"
    },
    "tags": []
   },
   "outputs": [
    {
     "name": "stdout",
     "output_type": "stream",
     "text": [
      "<class 'pandas.core.frame.DataFrame'>\n",
      "RangeIndex: 600000 entries, 0 to 599999\n",
      "Columns: 102 entries, id to target\n",
      "dtypes: float64(100), int32(2)\n",
      "memory usage: 462.3 MB\n"
     ]
    }
   ],
   "source": [
    "df_train.info()"
   ]
  },
  {
   "cell_type": "markdown",
   "id": "4a924fa1",
   "metadata": {
    "papermill": {
     "duration": 0.033078,
     "end_time": "2021-11-25T20:24:02.671123",
     "exception": false,
     "start_time": "2021-11-25T20:24:02.638045",
     "status": "completed"
    },
    "tags": []
   },
   "source": [
    "### Downcasting the data"
   ]
  },
  {
   "cell_type": "markdown",
   "id": "356e69f0",
   "metadata": {
    "papermill": {
     "duration": 0.033632,
     "end_time": "2021-11-25T20:24:02.737578",
     "exception": false,
     "start_time": "2021-11-25T20:24:02.703946",
     "status": "completed"
    },
    "tags": []
   },
   "source": [
    "Special thanks for  Sergie for some of the excelent ideas to reduce the load by downcasting and sampling. \n",
    "https://www.kaggle.com/sergiosaharovskiy/tps-nov-2021-a-complete-guide"
   ]
  },
  {
   "cell_type": "code",
   "execution_count": 7,
   "id": "8a705df6",
   "metadata": {
    "execution": {
     "iopub.execute_input": "2021-11-25T20:24:02.818913Z",
     "iopub.status.busy": "2021-11-25T20:24:02.818242Z",
     "iopub.status.idle": "2021-11-25T20:24:17.056884Z",
     "shell.execute_reply": "2021-11-25T20:24:17.056154Z",
     "shell.execute_reply.started": "2021-11-25T20:16:52.131524Z"
    },
    "papermill": {
     "duration": 14.286747,
     "end_time": "2021-11-25T20:24:17.057094",
     "exception": false,
     "start_time": "2021-11-25T20:24:02.770347",
     "status": "completed"
    },
    "tags": []
   },
   "outputs": [
    {
     "name": "stdout",
     "output_type": "stream",
     "text": [
      "[INFO] Memory usage train_before: 484.80 MB.\n",
      "[INFO] Memory usage test_before: 434.16 MB.\n",
      "\n",
      "[INFO] Memory usage train: 244.80 MB.\n",
      "[INFO] Memory usage test: 218.16 MB.\n"
     ]
    }
   ],
   "source": [
    "memory_train = sum(df_train.memory_usage()) / 1e6\n",
    "print(f'[INFO] Memory usage train_before: {memory_train:.2f} MB.')\n",
    "\n",
    "memory_test = sum(df_test.memory_usage()) / 1e6\n",
    "print(f'[INFO] Memory usage test_before: {memory_test:.2f} MB.\\n')\n",
    "\n",
    "# Downcasting the traind dataset.\n",
    "for col in df_train.columns:\n",
    "    \n",
    "    if df_train[col].dtype == \"float64\":\n",
    "        df_train[col] = pd.to_numeric(df_train[col], downcast=\"float\")\n",
    "        \n",
    "    if df_train[col].dtype == \"int64\":\n",
    "        df_train[col] = pd.to_numeric(df_train[col], downcast=\"integer\")\n",
    "        \n",
    "# Downcasting the test dataset.\n",
    "for col in df_test.columns:\n",
    "    \n",
    "    if df_test[col].dtype == \"float64\":\n",
    "        df_test[col] = pd.to_numeric(df_test[col], downcast=\"float\")\n",
    "        \n",
    "    if df_test[col].dtype == \"int64\":\n",
    "        df_test[col] = pd.to_numeric(df_test[col], downcast=\"integer\")\n",
    "        \n",
    "memory_train = sum(df_train.memory_usage()) / 1e6\n",
    "print(f'[INFO] Memory usage train: {memory_train:.2f} MB.')\n",
    "\n",
    "memory_test = sum(df_test.memory_usage()) / 1e6\n",
    "print(f'[INFO] Memory usage test: {memory_test:.2f} MB.')"
   ]
  },
  {
   "cell_type": "markdown",
   "id": "a7a6097b",
   "metadata": {
    "papermill": {
     "duration": 0.034757,
     "end_time": "2021-11-25T20:24:17.127730",
     "exception": false,
     "start_time": "2021-11-25T20:24:17.092973",
     "status": "completed"
    },
    "tags": []
   },
   "source": [
    "# Data Cleaning and Handling NaN"
   ]
  },
  {
   "cell_type": "code",
   "execution_count": 8,
   "id": "17e5c305",
   "metadata": {
    "execution": {
     "iopub.execute_input": "2021-11-25T20:24:17.199996Z",
     "iopub.status.busy": "2021-11-25T20:24:17.199347Z",
     "iopub.status.idle": "2021-11-25T20:24:17.202094Z",
     "shell.execute_reply": "2021-11-25T20:24:17.201609Z",
     "shell.execute_reply.started": "2021-11-25T20:17:06.420682Z"
    },
    "papermill": {
     "duration": 0.03953,
     "end_time": "2021-11-25T20:24:17.202241",
     "exception": false,
     "start_time": "2021-11-25T20:24:17.162711",
     "status": "completed"
    },
    "tags": []
   },
   "outputs": [],
   "source": [
    "#df_train.isnull().sum()"
   ]
  },
  {
   "cell_type": "code",
   "execution_count": 9,
   "id": "d487c4b3",
   "metadata": {
    "execution": {
     "iopub.execute_input": "2021-11-25T20:24:17.273344Z",
     "iopub.status.busy": "2021-11-25T20:24:17.272661Z",
     "iopub.status.idle": "2021-11-25T20:24:17.275499Z",
     "shell.execute_reply": "2021-11-25T20:24:17.275050Z",
     "shell.execute_reply.started": "2021-11-25T20:17:06.426937Z"
    },
    "papermill": {
     "duration": 0.040006,
     "end_time": "2021-11-25T20:24:17.275636",
     "exception": false,
     "start_time": "2021-11-25T20:24:17.235630",
     "status": "completed"
    },
    "tags": []
   },
   "outputs": [],
   "source": [
    "#df_test.isnull().sum()"
   ]
  },
  {
   "cell_type": "markdown",
   "id": "d2050e67",
   "metadata": {
    "papermill": {
     "duration": 0.032804,
     "end_time": "2021-11-25T20:24:17.341822",
     "exception": false,
     "start_time": "2021-11-25T20:24:17.309018",
     "status": "completed"
    },
    "tags": []
   },
   "source": [
    "No Null values in Train and Test Data"
   ]
  },
  {
   "cell_type": "markdown",
   "id": "98cfff27",
   "metadata": {
    "papermill": {
     "duration": 0.033206,
     "end_time": "2021-11-25T20:24:17.408317",
     "exception": false,
     "start_time": "2021-11-25T20:24:17.375111",
     "status": "completed"
    },
    "tags": []
   },
   "source": [
    "## Below codes to check the presence of Nan values in each features"
   ]
  },
  {
   "cell_type": "code",
   "execution_count": 10,
   "id": "2e4d71d6",
   "metadata": {
    "execution": {
     "iopub.execute_input": "2021-11-25T20:24:17.479367Z",
     "iopub.status.busy": "2021-11-25T20:24:17.478694Z",
     "iopub.status.idle": "2021-11-25T20:24:17.481149Z",
     "shell.execute_reply": "2021-11-25T20:24:17.481615Z",
     "shell.execute_reply.started": "2021-11-25T20:17:06.442534Z"
    },
    "papermill": {
     "duration": 0.040286,
     "end_time": "2021-11-25T20:24:17.481780",
     "exception": false,
     "start_time": "2021-11-25T20:24:17.441494",
     "status": "completed"
    },
    "tags": []
   },
   "outputs": [],
   "source": [
    "# for i in df_train.columns:\n",
    "#     if df_train[i].isnull().sum() !=0:\n",
    "#         print(i, df_train[i].isnull().sum())\n",
    "#     else:\n",
    "#         print('No Null present in ',i)"
   ]
  },
  {
   "cell_type": "code",
   "execution_count": 11,
   "id": "77247b58",
   "metadata": {
    "execution": {
     "iopub.execute_input": "2021-11-25T20:24:17.552924Z",
     "iopub.status.busy": "2021-11-25T20:24:17.552266Z",
     "iopub.status.idle": "2021-11-25T20:24:17.554558Z",
     "shell.execute_reply": "2021-11-25T20:24:17.555022Z",
     "shell.execute_reply.started": "2021-11-25T20:17:06.452473Z"
    },
    "papermill": {
     "duration": 0.039758,
     "end_time": "2021-11-25T20:24:17.555201",
     "exception": false,
     "start_time": "2021-11-25T20:24:17.515443",
     "status": "completed"
    },
    "tags": []
   },
   "outputs": [],
   "source": [
    "# for i in df_test.columns:\n",
    "#     if df_test[i].isnull().sum() !=0:\n",
    "#         print(i, df_test[i].isnull().sum())\n",
    "#     else:\n",
    "#         print('No Null present in ',i)"
   ]
  },
  {
   "cell_type": "markdown",
   "id": "f207c9ba",
   "metadata": {
    "papermill": {
     "duration": 0.032986,
     "end_time": "2021-11-25T20:24:17.621726",
     "exception": false,
     "start_time": "2021-11-25T20:24:17.588740",
     "status": "completed"
    },
    "tags": []
   },
   "source": [
    "## *********"
   ]
  },
  {
   "cell_type": "code",
   "execution_count": 12,
   "id": "b8585783",
   "metadata": {
    "execution": {
     "iopub.execute_input": "2021-11-25T20:24:17.699007Z",
     "iopub.status.busy": "2021-11-25T20:24:17.698345Z",
     "iopub.status.idle": "2021-11-25T20:24:17.701613Z",
     "shell.execute_reply": "2021-11-25T20:24:17.702183Z",
     "shell.execute_reply.started": "2021-11-25T20:17:06.465362Z"
    },
    "papermill": {
     "duration": 0.047219,
     "end_time": "2021-11-25T20:24:17.702351",
     "exception": false,
     "start_time": "2021-11-25T20:24:17.655132",
     "status": "completed"
    },
    "tags": []
   },
   "outputs": [
    {
     "data": {
      "text/plain": [
       "1    0.50601\n",
       "0    0.49399\n",
       "Name: target, dtype: float64"
      ]
     },
     "execution_count": 12,
     "metadata": {},
     "output_type": "execute_result"
    }
   ],
   "source": [
    "df_train['target'].value_counts(normalize=True) #ehecking the ratio of target class"
   ]
  },
  {
   "cell_type": "markdown",
   "id": "de104736",
   "metadata": {
    "papermill": {
     "duration": 0.033334,
     "end_time": "2021-11-25T20:24:17.769296",
     "exception": false,
     "start_time": "2021-11-25T20:24:17.735962",
     "status": "completed"
    },
    "tags": []
   },
   "source": [
    "The ratios of binary class is 50 :49.3 % , so this is a well balanced training dataset"
   ]
  },
  {
   "cell_type": "code",
   "execution_count": 13,
   "id": "8cf403d9",
   "metadata": {
    "execution": {
     "iopub.execute_input": "2021-11-25T20:24:17.841662Z",
     "iopub.status.busy": "2021-11-25T20:24:17.841030Z",
     "iopub.status.idle": "2021-11-25T20:24:17.845271Z",
     "shell.execute_reply": "2021-11-25T20:24:17.844677Z",
     "shell.execute_reply.started": "2021-11-25T20:17:06.486411Z"
    },
    "papermill": {
     "duration": 0.042422,
     "end_time": "2021-11-25T20:24:17.845418",
     "exception": false,
     "start_time": "2021-11-25T20:24:17.802996",
     "status": "completed"
    },
    "tags": []
   },
   "outputs": [
    {
     "data": {
      "text/plain": [
       "((600000, 102), (540000, 101))"
      ]
     },
     "execution_count": 13,
     "metadata": {},
     "output_type": "execute_result"
    }
   ],
   "source": [
    "df_train.shape,df_test.shape"
   ]
  },
  {
   "cell_type": "code",
   "execution_count": 14,
   "id": "25267282",
   "metadata": {
    "execution": {
     "iopub.execute_input": "2021-11-25T20:24:17.918653Z",
     "iopub.status.busy": "2021-11-25T20:24:17.918045Z",
     "iopub.status.idle": "2021-11-25T20:24:18.730432Z",
     "shell.execute_reply": "2021-11-25T20:24:18.729753Z",
     "shell.execute_reply.started": "2021-11-25T20:17:06.495320Z"
    },
    "papermill": {
     "duration": 0.8512,
     "end_time": "2021-11-25T20:24:18.730574",
     "exception": false,
     "start_time": "2021-11-25T20:24:17.879374",
     "status": "completed"
    },
    "tags": []
   },
   "outputs": [
    {
     "data": {
      "text/plain": [
       "(1140000, 102)"
      ]
     },
     "execution_count": 14,
     "metadata": {},
     "output_type": "execute_result"
    }
   ],
   "source": [
    "dataset= pd.concat(objs=[df_train,df_test],axis=0).reset_index(drop=True) #combining both test and train for easy preoprocessing and feature transformation\n",
    "dataset.shape"
   ]
  },
  {
   "cell_type": "markdown",
   "id": "94029fa4",
   "metadata": {
    "papermill": {
     "duration": 0.033474,
     "end_time": "2021-11-25T20:24:18.797780",
     "exception": false,
     "start_time": "2021-11-25T20:24:18.764306",
     "status": "completed"
    },
    "tags": []
   },
   "source": [
    "### Checking the data distrubution"
   ]
  },
  {
   "cell_type": "code",
   "execution_count": 15,
   "id": "451bee47",
   "metadata": {
    "execution": {
     "iopub.execute_input": "2021-11-25T20:24:18.870122Z",
     "iopub.status.busy": "2021-11-25T20:24:18.869486Z",
     "iopub.status.idle": "2021-11-25T20:24:18.872317Z",
     "shell.execute_reply": "2021-11-25T20:24:18.871718Z",
     "shell.execute_reply.started": "2021-11-25T20:17:08.068386Z"
    },
    "papermill": {
     "duration": 0.040912,
     "end_time": "2021-11-25T20:24:18.872448",
     "exception": false,
     "start_time": "2021-11-25T20:24:18.831536",
     "status": "completed"
    },
    "tags": []
   },
   "outputs": [],
   "source": [
    "#dataset.iloc[:,1:].describe().T.sort_values(by='std',ascending=False).head(7)"
   ]
  },
  {
   "cell_type": "code",
   "execution_count": 16,
   "id": "e784275c",
   "metadata": {
    "execution": {
     "iopub.execute_input": "2021-11-25T20:24:18.945453Z",
     "iopub.status.busy": "2021-11-25T20:24:18.944628Z",
     "iopub.status.idle": "2021-11-25T20:24:18.948236Z",
     "shell.execute_reply": "2021-11-25T20:24:18.947704Z",
     "shell.execute_reply.started": "2021-11-25T20:17:08.073448Z"
    },
    "papermill": {
     "duration": 0.041385,
     "end_time": "2021-11-25T20:24:18.948382",
     "exception": false,
     "start_time": "2021-11-25T20:24:18.906997",
     "status": "completed"
    },
    "tags": []
   },
   "outputs": [],
   "source": [
    "#dataset.iloc[:,1:].describe().T.sort_values(by='std',ascending=False).tail(5)"
   ]
  },
  {
   "cell_type": "markdown",
   "id": "322cd69b",
   "metadata": {
    "papermill": {
     "duration": 0.035145,
     "end_time": "2021-11-25T20:24:19.019269",
     "exception": false,
     "start_time": "2021-11-25T20:24:18.984124",
     "status": "completed"
    },
    "tags": []
   },
   "source": [
    "Here we checked the standard deviation of the features , the max is 526.32 , and min std is 0.049.\n",
    "So we have to address the highest std features f2,f35 ,f44"
   ]
  },
  {
   "cell_type": "markdown",
   "id": "a2d909fe",
   "metadata": {
    "papermill": {
     "duration": 0.033611,
     "end_time": "2021-11-25T20:24:19.087093",
     "exception": false,
     "start_time": "2021-11-25T20:24:19.053482",
     "status": "completed"
    },
    "tags": []
   },
   "source": [
    "## Plot every features to check whether it is in  Gaussian distribution or Not"
   ]
  },
  {
   "cell_type": "code",
   "execution_count": 17,
   "id": "f93dab3c",
   "metadata": {
    "execution": {
     "iopub.execute_input": "2021-11-25T20:24:19.161364Z",
     "iopub.status.busy": "2021-11-25T20:24:19.160411Z",
     "iopub.status.idle": "2021-11-25T20:24:19.164326Z",
     "shell.execute_reply": "2021-11-25T20:24:19.164819Z",
     "shell.execute_reply.started": "2021-11-25T20:17:08.088153Z"
    },
    "papermill": {
     "duration": 0.042028,
     "end_time": "2021-11-25T20:24:19.165013",
     "exception": false,
     "start_time": "2021-11-25T20:24:19.122985",
     "status": "completed"
    },
    "tags": []
   },
   "outputs": [],
   "source": [
    "# fig, axes = plt.subplots(10,10, figsize=(25, 15))\n",
    "# axes = axes.flatten()\n",
    "\n",
    "# for idx, ax in enumerate(axes):\n",
    "    \n",
    "#     sns.kdeplot(\n",
    "#         data=df_train, ax=ax, hue='target', fill=True,\n",
    "#         x=f'f{idx}', palette=['#4DB6AC', 'red'], legend=idx==0\n",
    "#     )\n",
    "    \n",
    "#     ax.set_title(f'f{idx}', loc='right', weight='bold', fontsize=12)\n"
   ]
  },
  {
   "cell_type": "markdown",
   "id": "19c21716",
   "metadata": {
    "papermill": {
     "duration": 0.033913,
     "end_time": "2021-11-25T20:24:19.233358",
     "exception": false,
     "start_time": "2021-11-25T20:24:19.199445",
     "status": "completed"
    },
    "tags": []
   },
   "source": [
    "We can observe that many are non gaussian distributed data,eg: f0, f2 ,f4 etc....\n",
    "So thees features need feature transformation to bring it into gaussian distrubution or very close to Gaussian distrubution.\n",
    "\n",
    "There are many festure transoformations like log, square root,exponential, reciprocal and power transformers like Yeo-Johnson and Box-Cox Transformers.\n",
    "\n",
    "To make things simple we first try log transformation for all the features, then to improve the model we can try different transformers for each features and check the distribution"
   ]
  },
  {
   "cell_type": "code",
   "execution_count": 18,
   "id": "8728d60d",
   "metadata": {
    "execution": {
     "iopub.execute_input": "2021-11-25T20:24:19.307458Z",
     "iopub.status.busy": "2021-11-25T20:24:19.306490Z",
     "iopub.status.idle": "2021-11-25T20:24:19.311946Z",
     "shell.execute_reply": "2021-11-25T20:24:19.312398Z",
     "shell.execute_reply.started": "2021-11-25T20:17:08.099927Z"
    },
    "papermill": {
     "duration": 0.044056,
     "end_time": "2021-11-25T20:24:19.312577",
     "exception": false,
     "start_time": "2021-11-25T20:24:19.268521",
     "status": "completed"
    },
    "tags": []
   },
   "outputs": [],
   "source": [
    "#features required transformation since not in normal distrubution\n",
    "non_gaus= ['f0','f2','f4','f9','f12','f16','f19','f20','f23','f24','f27',\n",
    "    'f28','f30','f31','f32','f33','f35','f39','f42','f44','f46','f48',\n",
    "    'f49','f51','f52','f53','f56','f58','f59','f60','f61','f62','f63',\n",
    "    'f64','f68','f69','f72','f73','f75','f76','f78','f79','f81','f83',\n",
    "    'f84','f87','f88','f89','f90','f92','f93','f94','f95','f98','f99' ]"
   ]
  },
  {
   "cell_type": "code",
   "execution_count": 19,
   "id": "08a67044",
   "metadata": {
    "execution": {
     "iopub.execute_input": "2021-11-25T20:24:19.388504Z",
     "iopub.status.busy": "2021-11-25T20:24:19.387561Z",
     "iopub.status.idle": "2021-11-25T20:24:19.582009Z",
     "shell.execute_reply": "2021-11-25T20:24:19.582458Z",
     "shell.execute_reply.started": "2021-11-25T20:17:08.116220Z"
    },
    "papermill": {
     "duration": 0.233613,
     "end_time": "2021-11-25T20:24:19.582624",
     "exception": false,
     "start_time": "2021-11-25T20:24:19.349011",
     "status": "completed"
    },
    "tags": []
   },
   "outputs": [
    {
     "data": {
      "text/html": [
       "<div>\n",
       "<style scoped>\n",
       "    .dataframe tbody tr th:only-of-type {\n",
       "        vertical-align: middle;\n",
       "    }\n",
       "\n",
       "    .dataframe tbody tr th {\n",
       "        vertical-align: top;\n",
       "    }\n",
       "\n",
       "    .dataframe thead th {\n",
       "        text-align: right;\n",
       "    }\n",
       "</style>\n",
       "<table border=\"1\" class=\"dataframe\">\n",
       "  <thead>\n",
       "    <tr style=\"text-align: right;\">\n",
       "      <th></th>\n",
       "      <th>f0</th>\n",
       "      <th>f2</th>\n",
       "      <th>f4</th>\n",
       "      <th>f9</th>\n",
       "      <th>f12</th>\n",
       "      <th>f16</th>\n",
       "      <th>f19</th>\n",
       "      <th>f20</th>\n",
       "      <th>f23</th>\n",
       "      <th>f24</th>\n",
       "      <th>f27</th>\n",
       "      <th>f28</th>\n",
       "      <th>f30</th>\n",
       "      <th>f31</th>\n",
       "      <th>f32</th>\n",
       "      <th>f33</th>\n",
       "      <th>f35</th>\n",
       "      <th>f39</th>\n",
       "      <th>f42</th>\n",
       "      <th>f44</th>\n",
       "      <th>f46</th>\n",
       "      <th>f48</th>\n",
       "      <th>f49</th>\n",
       "      <th>f51</th>\n",
       "      <th>f52</th>\n",
       "      <th>f53</th>\n",
       "      <th>f56</th>\n",
       "      <th>f58</th>\n",
       "      <th>f59</th>\n",
       "      <th>f60</th>\n",
       "      <th>f61</th>\n",
       "      <th>f62</th>\n",
       "      <th>f63</th>\n",
       "      <th>f64</th>\n",
       "      <th>f68</th>\n",
       "      <th>f69</th>\n",
       "      <th>f72</th>\n",
       "      <th>f73</th>\n",
       "      <th>f75</th>\n",
       "      <th>f76</th>\n",
       "      <th>f78</th>\n",
       "      <th>f79</th>\n",
       "      <th>f81</th>\n",
       "      <th>f83</th>\n",
       "      <th>f84</th>\n",
       "      <th>f87</th>\n",
       "      <th>f88</th>\n",
       "      <th>f89</th>\n",
       "      <th>f90</th>\n",
       "      <th>f92</th>\n",
       "      <th>f93</th>\n",
       "      <th>f94</th>\n",
       "      <th>f95</th>\n",
       "      <th>f98</th>\n",
       "      <th>f99</th>\n",
       "    </tr>\n",
       "  </thead>\n",
       "  <tbody>\n",
       "    <tr>\n",
       "      <th>0</th>\n",
       "      <td>0.106643</td>\n",
       "      <td>132.804001</td>\n",
       "      <td>0.081971</td>\n",
       "      <td>0.012330</td>\n",
       "      <td>0.560137</td>\n",
       "      <td>0.197527</td>\n",
       "      <td>-3.842450</td>\n",
       "      <td>0.037380</td>\n",
       "      <td>0.009397</td>\n",
       "      <td>0.144738</td>\n",
       "      <td>0.033225</td>\n",
       "      <td>-0.018284</td>\n",
       "      <td>-0.009294</td>\n",
       "      <td>-0.036271</td>\n",
       "      <td>-0.049871</td>\n",
       "      <td>0.019483</td>\n",
       "      <td>11.286300</td>\n",
       "      <td>-0.105772</td>\n",
       "      <td>0.789430</td>\n",
       "      <td>1.491570</td>\n",
       "      <td>0.041824</td>\n",
       "      <td>0.053691</td>\n",
       "      <td>1.701270</td>\n",
       "      <td>0.094902</td>\n",
       "      <td>0.030220</td>\n",
       "      <td>0.597024</td>\n",
       "      <td>-0.068686</td>\n",
       "      <td>0.061044</td>\n",
       "      <td>0.046099</td>\n",
       "      <td>0.017113</td>\n",
       "      <td>-0.027552</td>\n",
       "      <td>0.019483</td>\n",
       "      <td>-0.048825</td>\n",
       "      <td>0.050748</td>\n",
       "      <td>0.063342</td>\n",
       "      <td>0.121043</td>\n",
       "      <td>0.167613</td>\n",
       "      <td>0.039754</td>\n",
       "      <td>-0.016614</td>\n",
       "      <td>0.107679</td>\n",
       "      <td>0.013660</td>\n",
       "      <td>-0.097023</td>\n",
       "      <td>0.244457</td>\n",
       "      <td>0.113090</td>\n",
       "      <td>-0.015472</td>\n",
       "      <td>0.037227</td>\n",
       "      <td>-0.118814</td>\n",
       "      <td>0.067086</td>\n",
       "      <td>0.010739</td>\n",
       "      <td>0.013331</td>\n",
       "      <td>-0.011715</td>\n",
       "      <td>0.052759</td>\n",
       "      <td>0.065400</td>\n",
       "      <td>0.085974</td>\n",
       "      <td>0.240496</td>\n",
       "    </tr>\n",
       "    <tr>\n",
       "      <th>1</th>\n",
       "      <td>0.125021</td>\n",
       "      <td>76.533600</td>\n",
       "      <td>0.099400</td>\n",
       "      <td>0.037706</td>\n",
       "      <td>0.062040</td>\n",
       "      <td>0.233586</td>\n",
       "      <td>0.067874</td>\n",
       "      <td>-0.051268</td>\n",
       "      <td>0.103441</td>\n",
       "      <td>0.067638</td>\n",
       "      <td>-0.181834</td>\n",
       "      <td>0.008359</td>\n",
       "      <td>0.011850</td>\n",
       "      <td>0.022292</td>\n",
       "      <td>0.069320</td>\n",
       "      <td>0.117109</td>\n",
       "      <td>24.480700</td>\n",
       "      <td>0.092358</td>\n",
       "      <td>0.005896</td>\n",
       "      <td>2.564530</td>\n",
       "      <td>0.025997</td>\n",
       "      <td>1.575540</td>\n",
       "      <td>0.066105</td>\n",
       "      <td>0.025247</td>\n",
       "      <td>0.183500</td>\n",
       "      <td>0.110038</td>\n",
       "      <td>0.188196</td>\n",
       "      <td>0.136087</td>\n",
       "      <td>-0.008493</td>\n",
       "      <td>-0.015264</td>\n",
       "      <td>-0.010841</td>\n",
       "      <td>0.064584</td>\n",
       "      <td>0.102548</td>\n",
       "      <td>0.093611</td>\n",
       "      <td>0.091289</td>\n",
       "      <td>-0.036360</td>\n",
       "      <td>0.000657</td>\n",
       "      <td>0.051302</td>\n",
       "      <td>0.123294</td>\n",
       "      <td>-0.022671</td>\n",
       "      <td>-0.010397</td>\n",
       "      <td>0.058330</td>\n",
       "      <td>-0.118386</td>\n",
       "      <td>-0.009112</td>\n",
       "      <td>0.178701</td>\n",
       "      <td>0.005244</td>\n",
       "      <td>0.121381</td>\n",
       "      <td>0.109968</td>\n",
       "      <td>0.135838</td>\n",
       "      <td>0.017054</td>\n",
       "      <td>0.124863</td>\n",
       "      <td>0.154064</td>\n",
       "      <td>0.606848</td>\n",
       "      <td>-0.020877</td>\n",
       "      <td>0.024719</td>\n",
       "    </tr>\n",
       "    <tr>\n",
       "      <th>2</th>\n",
       "      <td>0.036330</td>\n",
       "      <td>233.546005</td>\n",
       "      <td>0.026914</td>\n",
       "      <td>0.056995</td>\n",
       "      <td>0.105244</td>\n",
       "      <td>-0.262018</td>\n",
       "      <td>0.020542</td>\n",
       "      <td>-0.008806</td>\n",
       "      <td>0.038180</td>\n",
       "      <td>0.123716</td>\n",
       "      <td>0.120601</td>\n",
       "      <td>0.082069</td>\n",
       "      <td>0.002270</td>\n",
       "      <td>0.045182</td>\n",
       "      <td>0.014405</td>\n",
       "      <td>0.011599</td>\n",
       "      <td>33.738201</td>\n",
       "      <td>2.122030</td>\n",
       "      <td>-0.006822</td>\n",
       "      <td>17.345699</td>\n",
       "      <td>-0.033600</td>\n",
       "      <td>0.051978</td>\n",
       "      <td>-0.002004</td>\n",
       "      <td>0.018367</td>\n",
       "      <td>-0.030468</td>\n",
       "      <td>0.111409</td>\n",
       "      <td>-0.019944</td>\n",
       "      <td>0.068105</td>\n",
       "      <td>-0.009812</td>\n",
       "      <td>-0.010627</td>\n",
       "      <td>0.027571</td>\n",
       "      <td>-0.007121</td>\n",
       "      <td>-0.048914</td>\n",
       "      <td>-0.002574</td>\n",
       "      <td>0.057749</td>\n",
       "      <td>0.525174</td>\n",
       "      <td>0.089848</td>\n",
       "      <td>0.093744</td>\n",
       "      <td>-0.010978</td>\n",
       "      <td>0.076671</td>\n",
       "      <td>0.038691</td>\n",
       "      <td>0.382731</td>\n",
       "      <td>-0.121482</td>\n",
       "      <td>0.147098</td>\n",
       "      <td>-0.016565</td>\n",
       "      <td>0.078828</td>\n",
       "      <td>0.979808</td>\n",
       "      <td>0.026758</td>\n",
       "      <td>0.117310</td>\n",
       "      <td>0.085222</td>\n",
       "      <td>0.032396</td>\n",
       "      <td>0.116092</td>\n",
       "      <td>-0.001689</td>\n",
       "      <td>0.124464</td>\n",
       "      <td>0.148209</td>\n",
       "    </tr>\n",
       "    <tr>\n",
       "      <th>3</th>\n",
       "      <td>-0.014077</td>\n",
       "      <td>779.966980</td>\n",
       "      <td>0.006948</td>\n",
       "      <td>0.123494</td>\n",
       "      <td>0.058411</td>\n",
       "      <td>0.175475</td>\n",
       "      <td>0.042086</td>\n",
       "      <td>0.005141</td>\n",
       "      <td>0.111813</td>\n",
       "      <td>0.121641</td>\n",
       "      <td>-0.032843</td>\n",
       "      <td>0.058168</td>\n",
       "      <td>0.097465</td>\n",
       "      <td>0.072744</td>\n",
       "      <td>0.000324</td>\n",
       "      <td>0.063362</td>\n",
       "      <td>25.382401</td>\n",
       "      <td>1.085670</td>\n",
       "      <td>0.034631</td>\n",
       "      <td>71.448502</td>\n",
       "      <td>0.092245</td>\n",
       "      <td>0.044829</td>\n",
       "      <td>0.027195</td>\n",
       "      <td>0.046955</td>\n",
       "      <td>0.063695</td>\n",
       "      <td>0.029225</td>\n",
       "      <td>0.164284</td>\n",
       "      <td>0.062306</td>\n",
       "      <td>-0.021406</td>\n",
       "      <td>0.009471</td>\n",
       "      <td>0.110884</td>\n",
       "      <td>0.026837</td>\n",
       "      <td>2.931160</td>\n",
       "      <td>0.068112</td>\n",
       "      <td>0.035611</td>\n",
       "      <td>-0.139274</td>\n",
       "      <td>0.117877</td>\n",
       "      <td>0.065605</td>\n",
       "      <td>-0.058029</td>\n",
       "      <td>0.070501</td>\n",
       "      <td>0.068559</td>\n",
       "      <td>0.162928</td>\n",
       "      <td>-0.008835</td>\n",
       "      <td>0.913739</td>\n",
       "      <td>-0.163204</td>\n",
       "      <td>-0.048894</td>\n",
       "      <td>4.917990</td>\n",
       "      <td>0.069930</td>\n",
       "      <td>-0.015347</td>\n",
       "      <td>-0.017103</td>\n",
       "      <td>-0.008100</td>\n",
       "      <td>0.062013</td>\n",
       "      <td>0.041193</td>\n",
       "      <td>0.040017</td>\n",
       "      <td>0.044873</td>\n",
       "    </tr>\n",
       "    <tr>\n",
       "      <th>4</th>\n",
       "      <td>-0.003259</td>\n",
       "      <td>156.128006</td>\n",
       "      <td>0.018284</td>\n",
       "      <td>0.034166</td>\n",
       "      <td>0.057555</td>\n",
       "      <td>0.287104</td>\n",
       "      <td>0.074883</td>\n",
       "      <td>-0.010543</td>\n",
       "      <td>0.008023</td>\n",
       "      <td>0.045235</td>\n",
       "      <td>-0.009376</td>\n",
       "      <td>0.528966</td>\n",
       "      <td>0.020000</td>\n",
       "      <td>0.106828</td>\n",
       "      <td>0.051307</td>\n",
       "      <td>0.045939</td>\n",
       "      <td>15.561500</td>\n",
       "      <td>0.155748</td>\n",
       "      <td>0.072155</td>\n",
       "      <td>3.171160</td>\n",
       "      <td>-0.105861</td>\n",
       "      <td>0.090698</td>\n",
       "      <td>0.112919</td>\n",
       "      <td>0.126866</td>\n",
       "      <td>0.142731</td>\n",
       "      <td>0.055724</td>\n",
       "      <td>0.524051</td>\n",
       "      <td>0.115334</td>\n",
       "      <td>0.125205</td>\n",
       "      <td>0.067432</td>\n",
       "      <td>0.075586</td>\n",
       "      <td>0.032114</td>\n",
       "      <td>-0.042284</td>\n",
       "      <td>0.047973</td>\n",
       "      <td>0.034019</td>\n",
       "      <td>0.024611</td>\n",
       "      <td>0.082462</td>\n",
       "      <td>-0.023296</td>\n",
       "      <td>0.086238</td>\n",
       "      <td>0.157568</td>\n",
       "      <td>0.061247</td>\n",
       "      <td>0.086603</td>\n",
       "      <td>1.411090</td>\n",
       "      <td>-0.023154</td>\n",
       "      <td>0.011234</td>\n",
       "      <td>0.044521</td>\n",
       "      <td>0.375731</td>\n",
       "      <td>0.134351</td>\n",
       "      <td>0.013781</td>\n",
       "      <td>-0.042943</td>\n",
       "      <td>0.105616</td>\n",
       "      <td>0.125072</td>\n",
       "      <td>0.037509</td>\n",
       "      <td>-0.012819</td>\n",
       "      <td>0.072798</td>\n",
       "    </tr>\n",
       "    <tr>\n",
       "      <th>5</th>\n",
       "      <td>0.026798</td>\n",
       "      <td>136.598007</td>\n",
       "      <td>0.046621</td>\n",
       "      <td>0.097730</td>\n",
       "      <td>0.138280</td>\n",
       "      <td>0.054934</td>\n",
       "      <td>-0.232102</td>\n",
       "      <td>-0.008823</td>\n",
       "      <td>-0.044461</td>\n",
       "      <td>0.117378</td>\n",
       "      <td>0.191585</td>\n",
       "      <td>0.223433</td>\n",
       "      <td>0.046938</td>\n",
       "      <td>0.074192</td>\n",
       "      <td>0.010365</td>\n",
       "      <td>0.019538</td>\n",
       "      <td>102.540001</td>\n",
       "      <td>0.047628</td>\n",
       "      <td>0.044833</td>\n",
       "      <td>2.362230</td>\n",
       "      <td>0.018796</td>\n",
       "      <td>0.652710</td>\n",
       "      <td>0.068950</td>\n",
       "      <td>0.100434</td>\n",
       "      <td>0.090060</td>\n",
       "      <td>0.130640</td>\n",
       "      <td>1.254380</td>\n",
       "      <td>0.055039</td>\n",
       "      <td>0.082419</td>\n",
       "      <td>0.072128</td>\n",
       "      <td>0.046595</td>\n",
       "      <td>0.183864</td>\n",
       "      <td>0.051966</td>\n",
       "      <td>0.034643</td>\n",
       "      <td>-0.043684</td>\n",
       "      <td>0.075303</td>\n",
       "      <td>0.055129</td>\n",
       "      <td>0.053770</td>\n",
       "      <td>0.042309</td>\n",
       "      <td>0.161307</td>\n",
       "      <td>0.028935</td>\n",
       "      <td>-0.002682</td>\n",
       "      <td>0.193480</td>\n",
       "      <td>0.135856</td>\n",
       "      <td>0.054054</td>\n",
       "      <td>0.040915</td>\n",
       "      <td>1.317220</td>\n",
       "      <td>0.133069</td>\n",
       "      <td>-0.013443</td>\n",
       "      <td>0.101817</td>\n",
       "      <td>0.058697</td>\n",
       "      <td>0.024684</td>\n",
       "      <td>0.102794</td>\n",
       "      <td>0.159111</td>\n",
       "      <td>0.111462</td>\n",
       "    </tr>\n",
       "  </tbody>\n",
       "</table>\n",
       "</div>"
      ],
      "text/plain": [
       "         f0          f2        f4        f9       f12       f16       f19  \\\n",
       "0  0.106643  132.804001  0.081971  0.012330  0.560137  0.197527 -3.842450   \n",
       "1  0.125021   76.533600  0.099400  0.037706  0.062040  0.233586  0.067874   \n",
       "2  0.036330  233.546005  0.026914  0.056995  0.105244 -0.262018  0.020542   \n",
       "3 -0.014077  779.966980  0.006948  0.123494  0.058411  0.175475  0.042086   \n",
       "4 -0.003259  156.128006  0.018284  0.034166  0.057555  0.287104  0.074883   \n",
       "5  0.026798  136.598007  0.046621  0.097730  0.138280  0.054934 -0.232102   \n",
       "\n",
       "        f20       f23       f24       f27       f28       f30       f31  \\\n",
       "0  0.037380  0.009397  0.144738  0.033225 -0.018284 -0.009294 -0.036271   \n",
       "1 -0.051268  0.103441  0.067638 -0.181834  0.008359  0.011850  0.022292   \n",
       "2 -0.008806  0.038180  0.123716  0.120601  0.082069  0.002270  0.045182   \n",
       "3  0.005141  0.111813  0.121641 -0.032843  0.058168  0.097465  0.072744   \n",
       "4 -0.010543  0.008023  0.045235 -0.009376  0.528966  0.020000  0.106828   \n",
       "5 -0.008823 -0.044461  0.117378  0.191585  0.223433  0.046938  0.074192   \n",
       "\n",
       "        f32       f33         f35       f39       f42        f44       f46  \\\n",
       "0 -0.049871  0.019483   11.286300 -0.105772  0.789430   1.491570  0.041824   \n",
       "1  0.069320  0.117109   24.480700  0.092358  0.005896   2.564530  0.025997   \n",
       "2  0.014405  0.011599   33.738201  2.122030 -0.006822  17.345699 -0.033600   \n",
       "3  0.000324  0.063362   25.382401  1.085670  0.034631  71.448502  0.092245   \n",
       "4  0.051307  0.045939   15.561500  0.155748  0.072155   3.171160 -0.105861   \n",
       "5  0.010365  0.019538  102.540001  0.047628  0.044833   2.362230  0.018796   \n",
       "\n",
       "        f48       f49       f51       f52       f53       f56       f58  \\\n",
       "0  0.053691  1.701270  0.094902  0.030220  0.597024 -0.068686  0.061044   \n",
       "1  1.575540  0.066105  0.025247  0.183500  0.110038  0.188196  0.136087   \n",
       "2  0.051978 -0.002004  0.018367 -0.030468  0.111409 -0.019944  0.068105   \n",
       "3  0.044829  0.027195  0.046955  0.063695  0.029225  0.164284  0.062306   \n",
       "4  0.090698  0.112919  0.126866  0.142731  0.055724  0.524051  0.115334   \n",
       "5  0.652710  0.068950  0.100434  0.090060  0.130640  1.254380  0.055039   \n",
       "\n",
       "        f59       f60       f61       f62       f63       f64       f68  \\\n",
       "0  0.046099  0.017113 -0.027552  0.019483 -0.048825  0.050748  0.063342   \n",
       "1 -0.008493 -0.015264 -0.010841  0.064584  0.102548  0.093611  0.091289   \n",
       "2 -0.009812 -0.010627  0.027571 -0.007121 -0.048914 -0.002574  0.057749   \n",
       "3 -0.021406  0.009471  0.110884  0.026837  2.931160  0.068112  0.035611   \n",
       "4  0.125205  0.067432  0.075586  0.032114 -0.042284  0.047973  0.034019   \n",
       "5  0.082419  0.072128  0.046595  0.183864  0.051966  0.034643 -0.043684   \n",
       "\n",
       "        f69       f72       f73       f75       f76       f78       f79  \\\n",
       "0  0.121043  0.167613  0.039754 -0.016614  0.107679  0.013660 -0.097023   \n",
       "1 -0.036360  0.000657  0.051302  0.123294 -0.022671 -0.010397  0.058330   \n",
       "2  0.525174  0.089848  0.093744 -0.010978  0.076671  0.038691  0.382731   \n",
       "3 -0.139274  0.117877  0.065605 -0.058029  0.070501  0.068559  0.162928   \n",
       "4  0.024611  0.082462 -0.023296  0.086238  0.157568  0.061247  0.086603   \n",
       "5  0.075303  0.055129  0.053770  0.042309  0.161307  0.028935 -0.002682   \n",
       "\n",
       "        f81       f83       f84       f87       f88       f89       f90  \\\n",
       "0  0.244457  0.113090 -0.015472  0.037227 -0.118814  0.067086  0.010739   \n",
       "1 -0.118386 -0.009112  0.178701  0.005244  0.121381  0.109968  0.135838   \n",
       "2 -0.121482  0.147098 -0.016565  0.078828  0.979808  0.026758  0.117310   \n",
       "3 -0.008835  0.913739 -0.163204 -0.048894  4.917990  0.069930 -0.015347   \n",
       "4  1.411090 -0.023154  0.011234  0.044521  0.375731  0.134351  0.013781   \n",
       "5  0.193480  0.135856  0.054054  0.040915  1.317220  0.133069 -0.013443   \n",
       "\n",
       "        f92       f93       f94       f95       f98       f99  \n",
       "0  0.013331 -0.011715  0.052759  0.065400  0.085974  0.240496  \n",
       "1  0.017054  0.124863  0.154064  0.606848 -0.020877  0.024719  \n",
       "2  0.085222  0.032396  0.116092 -0.001689  0.124464  0.148209  \n",
       "3 -0.017103 -0.008100  0.062013  0.041193  0.040017  0.044873  \n",
       "4 -0.042943  0.105616  0.125072  0.037509 -0.012819  0.072798  \n",
       "5  0.101817  0.058697  0.024684  0.102794  0.159111  0.111462  "
      ]
     },
     "execution_count": 19,
     "metadata": {},
     "output_type": "execute_result"
    }
   ],
   "source": [
    "df_train[non_gaus].head(6)"
   ]
  },
  {
   "cell_type": "markdown",
   "id": "b0cd06f1",
   "metadata": {
    "papermill": {
     "duration": 0.034456,
     "end_time": "2021-11-25T20:24:19.652439",
     "exception": false,
     "start_time": "2021-11-25T20:24:19.617983",
     "status": "completed"
    },
    "tags": []
   },
   "source": [
    "### Log Transformation"
   ]
  },
  {
   "cell_type": "code",
   "execution_count": 20,
   "id": "db3c6033",
   "metadata": {
    "execution": {
     "iopub.execute_input": "2021-11-25T20:24:19.775998Z",
     "iopub.status.busy": "2021-11-25T20:24:19.774971Z",
     "iopub.status.idle": "2021-11-25T20:24:21.337553Z",
     "shell.execute_reply": "2021-11-25T20:24:21.338076Z",
     "shell.execute_reply.started": "2021-11-25T20:17:08.371830Z"
    },
    "papermill": {
     "duration": 1.648082,
     "end_time": "2021-11-25T20:24:21.338255",
     "exception": false,
     "start_time": "2021-11-25T20:24:19.690173",
     "status": "completed"
    },
    "tags": []
   },
   "outputs": [],
   "source": [
    "df_transform_log = df_train[non_gaus]\n",
    "\n",
    "value_neg = (df_transform_log  < 0) #created a mask for negative values\n",
    "value_pos = (df_transform_log  > 0) #created a mask for positive values\n",
    "\n",
    "df_transform_log[value_neg]=np.log(np.abs(df_transform_log))  * (-1)\n",
    "df_transform_log[value_pos]=np.log(df_transform_log)"
   ]
  },
  {
   "cell_type": "markdown",
   "id": "f757aa12",
   "metadata": {
    "papermill": {
     "duration": 0.036439,
     "end_time": "2021-11-25T20:24:21.410928",
     "exception": false,
     "start_time": "2021-11-25T20:24:21.374489",
     "status": "completed"
    },
    "tags": []
   },
   "source": [
    "### Data distribution after log transformation"
   ]
  },
  {
   "cell_type": "code",
   "execution_count": 21,
   "id": "cacbc66e",
   "metadata": {
    "execution": {
     "iopub.execute_input": "2021-11-25T20:24:21.485306Z",
     "iopub.status.busy": "2021-11-25T20:24:21.484599Z",
     "iopub.status.idle": "2021-11-25T20:24:21.487389Z",
     "shell.execute_reply": "2021-11-25T20:24:21.487828Z",
     "shell.execute_reply.started": "2021-11-25T20:17:10.111607Z"
    },
    "papermill": {
     "duration": 0.040935,
     "end_time": "2021-11-25T20:24:21.488040",
     "exception": false,
     "start_time": "2021-11-25T20:24:21.447105",
     "status": "completed"
    },
    "tags": []
   },
   "outputs": [],
   "source": [
    "# df_transform_log['target'] = df_train['target']\n",
    "\n",
    "# fig, axes = plt.subplots(11,5, figsize=(20, 12))\n",
    "# axes = axes.flatten()\n",
    "\n",
    "# for col, ax in zip(non_gaus, axes):\n",
    "    \n",
    "#     sns.kdeplot(\n",
    "#         data=df_transform_log, ax=ax, hue='target', fill=True,\n",
    "#         x=col, palette=['#4DB6AC', 'red'], legend=idx==0\n",
    "#     )\n",
    "#     ax.set_title(f'f{idx}', loc='right', weight='bold', fontsize=12)"
   ]
  },
  {
   "cell_type": "markdown",
   "id": "c94b85fc",
   "metadata": {
    "papermill": {
     "duration": 0.034412,
     "end_time": "2021-11-25T20:24:21.558669",
     "exception": false,
     "start_time": "2021-11-25T20:24:21.524257",
     "status": "completed"
    },
    "tags": []
   },
   "source": [
    "### Apply log transform to the whole dataset (train and test together)"
   ]
  },
  {
   "cell_type": "code",
   "execution_count": 22,
   "id": "c9bc19ae",
   "metadata": {
    "execution": {
     "iopub.execute_input": "2021-11-25T20:24:21.634371Z",
     "iopub.status.busy": "2021-11-25T20:24:21.633235Z",
     "iopub.status.idle": "2021-11-25T20:24:25.099321Z",
     "shell.execute_reply": "2021-11-25T20:24:25.099787Z",
     "shell.execute_reply.started": "2021-11-25T20:17:10.117451Z"
    },
    "papermill": {
     "duration": 3.506454,
     "end_time": "2021-11-25T20:24:25.100005",
     "exception": false,
     "start_time": "2021-11-25T20:24:21.593551",
     "status": "completed"
    },
    "tags": []
   },
   "outputs": [],
   "source": [
    "dataset[non_gaus] # Features from the dataset we need to give log transform\n",
    "\n",
    "value_neg = (dataset[non_gaus]  < 0)\n",
    "value_pos = (dataset[non_gaus]  > 0)\n",
    "\n",
    "dataset[non_gaus][value_neg]=np.log(np.abs(dataset[non_gaus]))  * (-1)\n",
    "dataset[non_gaus][value_pos]=np.log(dataset[non_gaus])"
   ]
  },
  {
   "cell_type": "markdown",
   "id": "cb33614e",
   "metadata": {
    "papermill": {
     "duration": 0.036725,
     "end_time": "2021-11-25T20:24:25.172340",
     "exception": false,
     "start_time": "2021-11-25T20:24:25.135615",
     "status": "completed"
    },
    "tags": []
   },
   "source": [
    "### Adding aggregate features "
   ]
  },
  {
   "cell_type": "code",
   "execution_count": 23,
   "id": "29fc1f8e",
   "metadata": {
    "execution": {
     "iopub.execute_input": "2021-11-25T20:24:25.246035Z",
     "iopub.status.busy": "2021-11-25T20:24:25.245089Z",
     "iopub.status.idle": "2021-11-25T20:24:31.238640Z",
     "shell.execute_reply": "2021-11-25T20:24:31.238139Z",
     "shell.execute_reply.started": "2021-11-25T20:17:17.057095Z"
    },
    "papermill": {
     "duration": 6.031248,
     "end_time": "2021-11-25T20:24:31.238784",
     "exception": false,
     "start_time": "2021-11-25T20:24:25.207536",
     "status": "completed"
    },
    "tags": []
   },
   "outputs": [],
   "source": [
    "features=dataset.columns[1:-1]\n",
    "#SIMPLE FEATURE ENGINEERING, CREATING SOME AGGREGATION FEATURES\n",
    "dataset['sum']=dataset[features].sum(axis=1)\n",
    "\n",
    "dataset['mean']=dataset[features].mean(axis=1)\n",
    "\n",
    "\n",
    "dataset['std'] = dataset[features].std(axis=1)\n",
    "\n",
    "dataset['max'] = dataset[features].max(axis=1)\n",
    "\n",
    "dataset['min'] = dataset[features].min(axis=1)\n",
    "\n",
    "\n",
    "dataset['kurt'] = dataset[features].kurtosis(axis=1)\n",
    "\n",
    "agg_features= ['sum','mean','std','max','min','kurt']"
   ]
  },
  {
   "cell_type": "markdown",
   "id": "430e206b",
   "metadata": {
    "execution": {
     "iopub.execute_input": "2021-11-23T21:14:47.690157Z",
     "iopub.status.busy": "2021-11-23T21:14:47.689852Z",
     "iopub.status.idle": "2021-11-23T21:14:47.694547Z",
     "shell.execute_reply": "2021-11-23T21:14:47.693621Z",
     "shell.execute_reply.started": "2021-11-23T21:14:47.690123Z"
    },
    "papermill": {
     "duration": 0.034531,
     "end_time": "2021-11-25T20:24:31.308297",
     "exception": false,
     "start_time": "2021-11-25T20:24:31.273766",
     "status": "completed"
    },
    "tags": []
   },
   "source": [
    "# Model Creation"
   ]
  },
  {
   "cell_type": "code",
   "execution_count": 24,
   "id": "3e2fa61b",
   "metadata": {
    "execution": {
     "iopub.execute_input": "2021-11-25T20:24:31.389206Z",
     "iopub.status.busy": "2021-11-25T20:24:31.388533Z",
     "iopub.status.idle": "2021-11-25T20:24:31.450081Z",
     "shell.execute_reply": "2021-11-25T20:24:31.450553Z",
     "shell.execute_reply.started": "2021-11-25T20:17:23.434806Z"
    },
    "papermill": {
     "duration": 0.107502,
     "end_time": "2021-11-25T20:24:31.450733",
     "exception": false,
     "start_time": "2021-11-25T20:24:31.343231",
     "status": "completed"
    },
    "tags": []
   },
   "outputs": [
    {
     "data": {
      "text/html": [
       "<div>\n",
       "<style scoped>\n",
       "    .dataframe tbody tr th:only-of-type {\n",
       "        vertical-align: middle;\n",
       "    }\n",
       "\n",
       "    .dataframe tbody tr th {\n",
       "        vertical-align: top;\n",
       "    }\n",
       "\n",
       "    .dataframe thead th {\n",
       "        text-align: right;\n",
       "    }\n",
       "</style>\n",
       "<table border=\"1\" class=\"dataframe\">\n",
       "  <thead>\n",
       "    <tr style=\"text-align: right;\">\n",
       "      <th></th>\n",
       "      <th>id</th>\n",
       "      <th>f0</th>\n",
       "      <th>f1</th>\n",
       "      <th>f2</th>\n",
       "      <th>f3</th>\n",
       "      <th>f4</th>\n",
       "      <th>f5</th>\n",
       "      <th>f6</th>\n",
       "      <th>f7</th>\n",
       "      <th>f8</th>\n",
       "      <th>f9</th>\n",
       "      <th>f10</th>\n",
       "      <th>f11</th>\n",
       "      <th>f12</th>\n",
       "      <th>f13</th>\n",
       "      <th>f14</th>\n",
       "      <th>f15</th>\n",
       "      <th>f16</th>\n",
       "      <th>f17</th>\n",
       "      <th>f18</th>\n",
       "      <th>f19</th>\n",
       "      <th>f20</th>\n",
       "      <th>f21</th>\n",
       "      <th>f22</th>\n",
       "      <th>f23</th>\n",
       "      <th>f24</th>\n",
       "      <th>f25</th>\n",
       "      <th>f26</th>\n",
       "      <th>f27</th>\n",
       "      <th>f28</th>\n",
       "      <th>f29</th>\n",
       "      <th>f30</th>\n",
       "      <th>f31</th>\n",
       "      <th>f32</th>\n",
       "      <th>f33</th>\n",
       "      <th>f34</th>\n",
       "      <th>f35</th>\n",
       "      <th>f36</th>\n",
       "      <th>f37</th>\n",
       "      <th>f38</th>\n",
       "      <th>f39</th>\n",
       "      <th>f40</th>\n",
       "      <th>f41</th>\n",
       "      <th>f42</th>\n",
       "      <th>f43</th>\n",
       "      <th>f44</th>\n",
       "      <th>f45</th>\n",
       "      <th>f46</th>\n",
       "      <th>f47</th>\n",
       "      <th>f48</th>\n",
       "      <th>f49</th>\n",
       "      <th>f50</th>\n",
       "      <th>f51</th>\n",
       "      <th>f52</th>\n",
       "      <th>f53</th>\n",
       "      <th>f54</th>\n",
       "      <th>f55</th>\n",
       "      <th>f56</th>\n",
       "      <th>f57</th>\n",
       "      <th>f58</th>\n",
       "      <th>f59</th>\n",
       "      <th>f60</th>\n",
       "      <th>f61</th>\n",
       "      <th>f62</th>\n",
       "      <th>f63</th>\n",
       "      <th>f64</th>\n",
       "      <th>f65</th>\n",
       "      <th>f66</th>\n",
       "      <th>f67</th>\n",
       "      <th>f68</th>\n",
       "      <th>f69</th>\n",
       "      <th>f70</th>\n",
       "      <th>f71</th>\n",
       "      <th>f72</th>\n",
       "      <th>f73</th>\n",
       "      <th>f74</th>\n",
       "      <th>f75</th>\n",
       "      <th>f76</th>\n",
       "      <th>f77</th>\n",
       "      <th>f78</th>\n",
       "      <th>f79</th>\n",
       "      <th>f80</th>\n",
       "      <th>f81</th>\n",
       "      <th>f82</th>\n",
       "      <th>f83</th>\n",
       "      <th>f84</th>\n",
       "      <th>f85</th>\n",
       "      <th>f86</th>\n",
       "      <th>f87</th>\n",
       "      <th>f88</th>\n",
       "      <th>f89</th>\n",
       "      <th>f90</th>\n",
       "      <th>f91</th>\n",
       "      <th>f92</th>\n",
       "      <th>f93</th>\n",
       "      <th>f94</th>\n",
       "      <th>f95</th>\n",
       "      <th>f96</th>\n",
       "      <th>f97</th>\n",
       "      <th>f98</th>\n",
       "      <th>f99</th>\n",
       "      <th>target</th>\n",
       "      <th>sum</th>\n",
       "      <th>mean</th>\n",
       "      <th>std</th>\n",
       "      <th>max</th>\n",
       "      <th>min</th>\n",
       "      <th>kurt</th>\n",
       "    </tr>\n",
       "  </thead>\n",
       "  <tbody>\n",
       "    <tr>\n",
       "      <th>0</th>\n",
       "      <td>0</td>\n",
       "      <td>0.106643</td>\n",
       "      <td>3.59437</td>\n",
       "      <td>132.804001</td>\n",
       "      <td>3.18428</td>\n",
       "      <td>0.081971</td>\n",
       "      <td>1.18859</td>\n",
       "      <td>3.73238</td>\n",
       "      <td>2.266270</td>\n",
       "      <td>2.09959</td>\n",
       "      <td>0.012330</td>\n",
       "      <td>1.607190</td>\n",
       "      <td>-0.318058</td>\n",
       "      <td>0.560137</td>\n",
       "      <td>2.80688</td>\n",
       "      <td>1.35114</td>\n",
       "      <td>2.535930</td>\n",
       "      <td>0.197527</td>\n",
       "      <td>0.676494</td>\n",
       "      <td>1.98979</td>\n",
       "      <td>-3.842450</td>\n",
       "      <td>0.037380</td>\n",
       "      <td>0.230322</td>\n",
       "      <td>3.33055</td>\n",
       "      <td>0.009397</td>\n",
       "      <td>0.144738</td>\n",
       "      <td>3.05131</td>\n",
       "      <td>1.30362</td>\n",
       "      <td>0.033225</td>\n",
       "      <td>-0.018284</td>\n",
       "      <td>2.74821</td>\n",
       "      <td>-0.009294</td>\n",
       "      <td>-0.036271</td>\n",
       "      <td>-0.049871</td>\n",
       "      <td>0.019483</td>\n",
       "      <td>3.898460</td>\n",
       "      <td>11.286300</td>\n",
       "      <td>1.13802</td>\n",
       "      <td>3.366880</td>\n",
       "      <td>4.94446</td>\n",
       "      <td>-0.105772</td>\n",
       "      <td>2.11345</td>\n",
       "      <td>3.452230</td>\n",
       "      <td>0.789430</td>\n",
       "      <td>1.113210</td>\n",
       "      <td>1.491570</td>\n",
       "      <td>2.440370</td>\n",
       "      <td>0.041824</td>\n",
       "      <td>3.35537</td>\n",
       "      <td>0.053691</td>\n",
       "      <td>1.701270</td>\n",
       "      <td>0.908831</td>\n",
       "      <td>0.094902</td>\n",
       "      <td>0.030220</td>\n",
       "      <td>0.597024</td>\n",
       "      <td>4.44341</td>\n",
       "      <td>1.586490</td>\n",
       "      <td>-0.068686</td>\n",
       "      <td>-0.108268</td>\n",
       "      <td>0.061044</td>\n",
       "      <td>0.046099</td>\n",
       "      <td>0.017113</td>\n",
       "      <td>-0.027552</td>\n",
       "      <td>0.019483</td>\n",
       "      <td>-0.048825</td>\n",
       "      <td>0.050748</td>\n",
       "      <td>3.729300</td>\n",
       "      <td>5.017440</td>\n",
       "      <td>4.186880</td>\n",
       "      <td>0.063342</td>\n",
       "      <td>0.121043</td>\n",
       "      <td>1.37175</td>\n",
       "      <td>4.017450</td>\n",
       "      <td>0.167613</td>\n",
       "      <td>0.039754</td>\n",
       "      <td>2.04236</td>\n",
       "      <td>-0.016614</td>\n",
       "      <td>0.107679</td>\n",
       "      <td>3.507250</td>\n",
       "      <td>0.013660</td>\n",
       "      <td>-0.097023</td>\n",
       "      <td>5.39607</td>\n",
       "      <td>0.244457</td>\n",
       "      <td>3.49184</td>\n",
       "      <td>0.113090</td>\n",
       "      <td>-0.015472</td>\n",
       "      <td>4.208790</td>\n",
       "      <td>4.10656</td>\n",
       "      <td>0.037227</td>\n",
       "      <td>-0.118814</td>\n",
       "      <td>0.067086</td>\n",
       "      <td>0.010739</td>\n",
       "      <td>1.09862</td>\n",
       "      <td>0.013331</td>\n",
       "      <td>-0.011715</td>\n",
       "      <td>0.052759</td>\n",
       "      <td>0.065400</td>\n",
       "      <td>4.211250</td>\n",
       "      <td>1.97877</td>\n",
       "      <td>0.085974</td>\n",
       "      <td>0.240496</td>\n",
       "      <td>0.0</td>\n",
       "      <td>265.660645</td>\n",
       "      <td>2.656606</td>\n",
       "      <td>13.288189</td>\n",
       "      <td>132.804001</td>\n",
       "      <td>-3.842450</td>\n",
       "      <td>95.667130</td>\n",
       "    </tr>\n",
       "    <tr>\n",
       "      <th>1</th>\n",
       "      <td>1</td>\n",
       "      <td>0.125021</td>\n",
       "      <td>1.67336</td>\n",
       "      <td>76.533600</td>\n",
       "      <td>3.37825</td>\n",
       "      <td>0.099400</td>\n",
       "      <td>5.09366</td>\n",
       "      <td>1.27562</td>\n",
       "      <td>-0.471318</td>\n",
       "      <td>4.54594</td>\n",
       "      <td>0.037706</td>\n",
       "      <td>0.331749</td>\n",
       "      <td>0.325091</td>\n",
       "      <td>0.062040</td>\n",
       "      <td>2.26215</td>\n",
       "      <td>4.33943</td>\n",
       "      <td>-0.224999</td>\n",
       "      <td>0.233586</td>\n",
       "      <td>3.381280</td>\n",
       "      <td>1.90299</td>\n",
       "      <td>0.067874</td>\n",
       "      <td>-0.051268</td>\n",
       "      <td>0.006135</td>\n",
       "      <td>2.60444</td>\n",
       "      <td>0.103441</td>\n",
       "      <td>0.067638</td>\n",
       "      <td>4.75362</td>\n",
       "      <td>1.85552</td>\n",
       "      <td>-0.181834</td>\n",
       "      <td>0.008359</td>\n",
       "      <td>3.16634</td>\n",
       "      <td>0.011850</td>\n",
       "      <td>0.022292</td>\n",
       "      <td>0.069320</td>\n",
       "      <td>0.117109</td>\n",
       "      <td>0.315276</td>\n",
       "      <td>24.480700</td>\n",
       "      <td>1.67227</td>\n",
       "      <td>-0.409067</td>\n",
       "      <td>4.95475</td>\n",
       "      <td>0.092358</td>\n",
       "      <td>2.60318</td>\n",
       "      <td>1.954690</td>\n",
       "      <td>0.005896</td>\n",
       "      <td>3.289340</td>\n",
       "      <td>2.564530</td>\n",
       "      <td>0.817706</td>\n",
       "      <td>0.025997</td>\n",
       "      <td>4.61749</td>\n",
       "      <td>1.575540</td>\n",
       "      <td>0.066105</td>\n",
       "      <td>0.681634</td>\n",
       "      <td>0.025247</td>\n",
       "      <td>0.183500</td>\n",
       "      <td>0.110038</td>\n",
       "      <td>2.74612</td>\n",
       "      <td>0.835586</td>\n",
       "      <td>0.188196</td>\n",
       "      <td>4.960640</td>\n",
       "      <td>0.136087</td>\n",
       "      <td>-0.008493</td>\n",
       "      <td>-0.015264</td>\n",
       "      <td>-0.010841</td>\n",
       "      <td>0.064584</td>\n",
       "      <td>0.102548</td>\n",
       "      <td>0.093611</td>\n",
       "      <td>0.964089</td>\n",
       "      <td>0.630422</td>\n",
       "      <td>4.307340</td>\n",
       "      <td>0.091289</td>\n",
       "      <td>-0.036360</td>\n",
       "      <td>3.61767</td>\n",
       "      <td>3.103240</td>\n",
       "      <td>0.000657</td>\n",
       "      <td>0.051302</td>\n",
       "      <td>1.92462</td>\n",
       "      <td>0.123294</td>\n",
       "      <td>-0.022671</td>\n",
       "      <td>1.548120</td>\n",
       "      <td>-0.010397</td>\n",
       "      <td>0.058330</td>\n",
       "      <td>3.66131</td>\n",
       "      <td>-0.118386</td>\n",
       "      <td>2.35739</td>\n",
       "      <td>-0.009112</td>\n",
       "      <td>0.178701</td>\n",
       "      <td>4.097350</td>\n",
       "      <td>3.53289</td>\n",
       "      <td>0.005244</td>\n",
       "      <td>0.121381</td>\n",
       "      <td>0.109968</td>\n",
       "      <td>0.135838</td>\n",
       "      <td>3.46017</td>\n",
       "      <td>0.017054</td>\n",
       "      <td>0.124863</td>\n",
       "      <td>0.154064</td>\n",
       "      <td>0.606848</td>\n",
       "      <td>-0.267928</td>\n",
       "      <td>2.57786</td>\n",
       "      <td>-0.020877</td>\n",
       "      <td>0.024719</td>\n",
       "      <td>0.0</td>\n",
       "      <td>213.345703</td>\n",
       "      <td>2.133457</td>\n",
       "      <td>8.025316</td>\n",
       "      <td>76.533600</td>\n",
       "      <td>-0.471318</td>\n",
       "      <td>76.830978</td>\n",
       "    </tr>\n",
       "    <tr>\n",
       "      <th>2</th>\n",
       "      <td>2</td>\n",
       "      <td>0.036330</td>\n",
       "      <td>1.49747</td>\n",
       "      <td>233.546005</td>\n",
       "      <td>2.19435</td>\n",
       "      <td>0.026914</td>\n",
       "      <td>3.12694</td>\n",
       "      <td>5.05687</td>\n",
       "      <td>3.849460</td>\n",
       "      <td>1.80187</td>\n",
       "      <td>0.056995</td>\n",
       "      <td>0.328684</td>\n",
       "      <td>2.968810</td>\n",
       "      <td>0.105244</td>\n",
       "      <td>2.06949</td>\n",
       "      <td>5.30986</td>\n",
       "      <td>1.354790</td>\n",
       "      <td>-0.262018</td>\n",
       "      <td>1.379080</td>\n",
       "      <td>1.48091</td>\n",
       "      <td>0.020542</td>\n",
       "      <td>-0.008806</td>\n",
       "      <td>0.109348</td>\n",
       "      <td>1.68365</td>\n",
       "      <td>0.038180</td>\n",
       "      <td>0.123716</td>\n",
       "      <td>1.11248</td>\n",
       "      <td>3.57166</td>\n",
       "      <td>0.120601</td>\n",
       "      <td>0.082069</td>\n",
       "      <td>2.23352</td>\n",
       "      <td>0.002270</td>\n",
       "      <td>0.045182</td>\n",
       "      <td>0.014405</td>\n",
       "      <td>0.011599</td>\n",
       "      <td>-0.502849</td>\n",
       "      <td>33.738201</td>\n",
       "      <td>1.41750</td>\n",
       "      <td>1.071350</td>\n",
       "      <td>3.22296</td>\n",
       "      <td>2.122030</td>\n",
       "      <td>3.08216</td>\n",
       "      <td>0.637555</td>\n",
       "      <td>-0.006822</td>\n",
       "      <td>-0.390943</td>\n",
       "      <td>17.345699</td>\n",
       "      <td>3.700430</td>\n",
       "      <td>-0.033600</td>\n",
       "      <td>1.57824</td>\n",
       "      <td>0.051978</td>\n",
       "      <td>-0.002004</td>\n",
       "      <td>2.690960</td>\n",
       "      <td>0.018367</td>\n",
       "      <td>-0.030468</td>\n",
       "      <td>0.111409</td>\n",
       "      <td>2.18747</td>\n",
       "      <td>-0.325000</td>\n",
       "      <td>-0.019944</td>\n",
       "      <td>3.455030</td>\n",
       "      <td>0.068105</td>\n",
       "      <td>-0.009812</td>\n",
       "      <td>-0.010627</td>\n",
       "      <td>0.027571</td>\n",
       "      <td>-0.007121</td>\n",
       "      <td>-0.048914</td>\n",
       "      <td>-0.002574</td>\n",
       "      <td>1.865090</td>\n",
       "      <td>2.404170</td>\n",
       "      <td>0.411741</td>\n",
       "      <td>0.057749</td>\n",
       "      <td>0.525174</td>\n",
       "      <td>2.16879</td>\n",
       "      <td>0.828297</td>\n",
       "      <td>0.089848</td>\n",
       "      <td>0.093744</td>\n",
       "      <td>4.94901</td>\n",
       "      <td>-0.010978</td>\n",
       "      <td>0.076671</td>\n",
       "      <td>0.266784</td>\n",
       "      <td>0.038691</td>\n",
       "      <td>0.382731</td>\n",
       "      <td>3.84760</td>\n",
       "      <td>-0.121482</td>\n",
       "      <td>3.74084</td>\n",
       "      <td>0.147098</td>\n",
       "      <td>-0.016565</td>\n",
       "      <td>0.614651</td>\n",
       "      <td>2.12584</td>\n",
       "      <td>0.078828</td>\n",
       "      <td>0.979808</td>\n",
       "      <td>0.026758</td>\n",
       "      <td>0.117310</td>\n",
       "      <td>4.88300</td>\n",
       "      <td>0.085222</td>\n",
       "      <td>0.032396</td>\n",
       "      <td>0.116092</td>\n",
       "      <td>-0.001689</td>\n",
       "      <td>-0.520069</td>\n",
       "      <td>2.14112</td>\n",
       "      <td>0.124464</td>\n",
       "      <td>0.148209</td>\n",
       "      <td>0.0</td>\n",
       "      <td>382.921692</td>\n",
       "      <td>3.829217</td>\n",
       "      <td>23.531256</td>\n",
       "      <td>233.546005</td>\n",
       "      <td>-0.520069</td>\n",
       "      <td>94.408302</td>\n",
       "    </tr>\n",
       "  </tbody>\n",
       "</table>\n",
       "</div>"
      ],
      "text/plain": [
       "   id        f0       f1          f2       f3        f4       f5       f6  \\\n",
       "0   0  0.106643  3.59437  132.804001  3.18428  0.081971  1.18859  3.73238   \n",
       "1   1  0.125021  1.67336   76.533600  3.37825  0.099400  5.09366  1.27562   \n",
       "2   2  0.036330  1.49747  233.546005  2.19435  0.026914  3.12694  5.05687   \n",
       "\n",
       "         f7       f8        f9       f10       f11       f12      f13  \\\n",
       "0  2.266270  2.09959  0.012330  1.607190 -0.318058  0.560137  2.80688   \n",
       "1 -0.471318  4.54594  0.037706  0.331749  0.325091  0.062040  2.26215   \n",
       "2  3.849460  1.80187  0.056995  0.328684  2.968810  0.105244  2.06949   \n",
       "\n",
       "       f14       f15       f16       f17      f18       f19       f20  \\\n",
       "0  1.35114  2.535930  0.197527  0.676494  1.98979 -3.842450  0.037380   \n",
       "1  4.33943 -0.224999  0.233586  3.381280  1.90299  0.067874 -0.051268   \n",
       "2  5.30986  1.354790 -0.262018  1.379080  1.48091  0.020542 -0.008806   \n",
       "\n",
       "        f21      f22       f23       f24      f25      f26       f27  \\\n",
       "0  0.230322  3.33055  0.009397  0.144738  3.05131  1.30362  0.033225   \n",
       "1  0.006135  2.60444  0.103441  0.067638  4.75362  1.85552 -0.181834   \n",
       "2  0.109348  1.68365  0.038180  0.123716  1.11248  3.57166  0.120601   \n",
       "\n",
       "        f28      f29       f30       f31       f32       f33       f34  \\\n",
       "0 -0.018284  2.74821 -0.009294 -0.036271 -0.049871  0.019483  3.898460   \n",
       "1  0.008359  3.16634  0.011850  0.022292  0.069320  0.117109  0.315276   \n",
       "2  0.082069  2.23352  0.002270  0.045182  0.014405  0.011599 -0.502849   \n",
       "\n",
       "         f35      f36       f37      f38       f39      f40       f41  \\\n",
       "0  11.286300  1.13802  3.366880  4.94446 -0.105772  2.11345  3.452230   \n",
       "1  24.480700  1.67227 -0.409067  4.95475  0.092358  2.60318  1.954690   \n",
       "2  33.738201  1.41750  1.071350  3.22296  2.122030  3.08216  0.637555   \n",
       "\n",
       "        f42       f43        f44       f45       f46      f47       f48  \\\n",
       "0  0.789430  1.113210   1.491570  2.440370  0.041824  3.35537  0.053691   \n",
       "1  0.005896  3.289340   2.564530  0.817706  0.025997  4.61749  1.575540   \n",
       "2 -0.006822 -0.390943  17.345699  3.700430 -0.033600  1.57824  0.051978   \n",
       "\n",
       "        f49       f50       f51       f52       f53      f54       f55  \\\n",
       "0  1.701270  0.908831  0.094902  0.030220  0.597024  4.44341  1.586490   \n",
       "1  0.066105  0.681634  0.025247  0.183500  0.110038  2.74612  0.835586   \n",
       "2 -0.002004  2.690960  0.018367 -0.030468  0.111409  2.18747 -0.325000   \n",
       "\n",
       "        f56       f57       f58       f59       f60       f61       f62  \\\n",
       "0 -0.068686 -0.108268  0.061044  0.046099  0.017113 -0.027552  0.019483   \n",
       "1  0.188196  4.960640  0.136087 -0.008493 -0.015264 -0.010841  0.064584   \n",
       "2 -0.019944  3.455030  0.068105 -0.009812 -0.010627  0.027571 -0.007121   \n",
       "\n",
       "        f63       f64       f65       f66       f67       f68       f69  \\\n",
       "0 -0.048825  0.050748  3.729300  5.017440  4.186880  0.063342  0.121043   \n",
       "1  0.102548  0.093611  0.964089  0.630422  4.307340  0.091289 -0.036360   \n",
       "2 -0.048914 -0.002574  1.865090  2.404170  0.411741  0.057749  0.525174   \n",
       "\n",
       "       f70       f71       f72       f73      f74       f75       f76  \\\n",
       "0  1.37175  4.017450  0.167613  0.039754  2.04236 -0.016614  0.107679   \n",
       "1  3.61767  3.103240  0.000657  0.051302  1.92462  0.123294 -0.022671   \n",
       "2  2.16879  0.828297  0.089848  0.093744  4.94901 -0.010978  0.076671   \n",
       "\n",
       "        f77       f78       f79      f80       f81      f82       f83  \\\n",
       "0  3.507250  0.013660 -0.097023  5.39607  0.244457  3.49184  0.113090   \n",
       "1  1.548120 -0.010397  0.058330  3.66131 -0.118386  2.35739 -0.009112   \n",
       "2  0.266784  0.038691  0.382731  3.84760 -0.121482  3.74084  0.147098   \n",
       "\n",
       "        f84       f85      f86       f87       f88       f89       f90  \\\n",
       "0 -0.015472  4.208790  4.10656  0.037227 -0.118814  0.067086  0.010739   \n",
       "1  0.178701  4.097350  3.53289  0.005244  0.121381  0.109968  0.135838   \n",
       "2 -0.016565  0.614651  2.12584  0.078828  0.979808  0.026758  0.117310   \n",
       "\n",
       "       f91       f92       f93       f94       f95       f96      f97  \\\n",
       "0  1.09862  0.013331 -0.011715  0.052759  0.065400  4.211250  1.97877   \n",
       "1  3.46017  0.017054  0.124863  0.154064  0.606848 -0.267928  2.57786   \n",
       "2  4.88300  0.085222  0.032396  0.116092 -0.001689 -0.520069  2.14112   \n",
       "\n",
       "        f98       f99  target         sum      mean        std         max  \\\n",
       "0  0.085974  0.240496     0.0  265.660645  2.656606  13.288189  132.804001   \n",
       "1 -0.020877  0.024719     0.0  213.345703  2.133457   8.025316   76.533600   \n",
       "2  0.124464  0.148209     0.0  382.921692  3.829217  23.531256  233.546005   \n",
       "\n",
       "        min       kurt  \n",
       "0 -3.842450  95.667130  \n",
       "1 -0.471318  76.830978  \n",
       "2 -0.520069  94.408302  "
      ]
     },
     "execution_count": 24,
     "metadata": {},
     "output_type": "execute_result"
    }
   ],
   "source": [
    "dataset.head(3)"
   ]
  },
  {
   "cell_type": "markdown",
   "id": "689d13b7",
   "metadata": {
    "papermill": {
     "duration": 0.037133,
     "end_time": "2021-11-25T20:24:31.524948",
     "exception": false,
     "start_time": "2021-11-25T20:24:31.487815",
     "status": "completed"
    },
    "tags": []
   },
   "source": [
    "### Spliting the dataset back into train and test "
   ]
  },
  {
   "cell_type": "code",
   "execution_count": 25,
   "id": "0d1ff700",
   "metadata": {
    "execution": {
     "iopub.execute_input": "2021-11-25T20:24:31.604922Z",
     "iopub.status.busy": "2021-11-25T20:24:31.601194Z",
     "iopub.status.idle": "2021-11-25T20:24:31.999926Z",
     "shell.execute_reply": "2021-11-25T20:24:31.999418Z",
     "shell.execute_reply.started": "2021-11-25T20:17:23.518766Z"
    },
    "papermill": {
     "duration": 0.438499,
     "end_time": "2021-11-25T20:24:32.000196",
     "exception": false,
     "start_time": "2021-11-25T20:24:31.561697",
     "status": "completed"
    },
    "tags": []
   },
   "outputs": [
    {
     "data": {
      "text/plain": [
       "((600000, 107), (540000, 106))"
      ]
     },
     "execution_count": 25,
     "metadata": {},
     "output_type": "execute_result"
    }
   ],
   "source": [
    "#Spliting train and test\n",
    "\n",
    "train=dataset.iloc[:len(df_train)]\n",
    "test=dataset.iloc[len(df_train):]\n",
    "test.drop(labels=[\"target\",\"id\"],axis = 1,inplace=True)\n",
    "train.drop(labels=[\"id\"],axis = 1,inplace=True)\n",
    "#train.drop(columns='id', inplace=True)\n",
    "train.shape,test.shape"
   ]
  },
  {
   "cell_type": "markdown",
   "id": "2eb4e7cf",
   "metadata": {
    "papermill": {
     "duration": 0.036172,
     "end_time": "2021-11-25T20:24:32.073290",
     "exception": false,
     "start_time": "2021-11-25T20:24:32.037118",
     "status": "completed"
    },
    "tags": []
   },
   "source": [
    "#### Considering only 300000 random samples to simplify the computation"
   ]
  },
  {
   "cell_type": "markdown",
   "id": "e1173276",
   "metadata": {
    "papermill": {
     "duration": 0.03652,
     "end_time": "2021-11-25T20:24:32.147483",
     "exception": false,
     "start_time": "2021-11-25T20:24:32.110963",
     "status": "completed"
    },
    "tags": []
   },
   "source": [
    "Since the first run with all the samples takes too long in k-fold, i have taken only 30k random samples from the train data set to train and k fold validation"
   ]
  },
  {
   "cell_type": "code",
   "execution_count": 26,
   "id": "d9dc3df9",
   "metadata": {
    "execution": {
     "iopub.execute_input": "2021-11-25T20:24:32.224677Z",
     "iopub.status.busy": "2021-11-25T20:24:32.223970Z",
     "iopub.status.idle": "2021-11-25T20:24:32.226510Z",
     "shell.execute_reply": "2021-11-25T20:24:32.226984Z",
     "shell.execute_reply.started": "2021-11-25T20:17:23.953911Z"
    },
    "papermill": {
     "duration": 0.043301,
     "end_time": "2021-11-25T20:24:32.227151",
     "exception": false,
     "start_time": "2021-11-25T20:24:32.183850",
     "status": "completed"
    },
    "tags": []
   },
   "outputs": [],
   "source": [
    "# seed = 322\n",
    "# df_train_30k = train.sample(n=30000, random_state=seed)\n",
    "\n",
    "\n",
    "# np.random.seed(seed) \n",
    "# features_choice = np.random.choice(\n",
    "#     df_train_30k.keys()[1:-1], size=12, replace=False\n",
    "# )\n",
    "\n",
    "# df_train_30k.head()"
   ]
  },
  {
   "cell_type": "code",
   "execution_count": 27,
   "id": "b7e0eb24",
   "metadata": {
    "execution": {
     "iopub.execute_input": "2021-11-25T20:24:32.302938Z",
     "iopub.status.busy": "2021-11-25T20:24:32.302297Z",
     "iopub.status.idle": "2021-11-25T20:24:32.385231Z",
     "shell.execute_reply": "2021-11-25T20:24:32.385737Z",
     "shell.execute_reply.started": "2021-11-25T20:17:23.961730Z"
    },
    "papermill": {
     "duration": 0.122517,
     "end_time": "2021-11-25T20:24:32.385944",
     "exception": false,
     "start_time": "2021-11-25T20:24:32.263427",
     "status": "completed"
    },
    "tags": []
   },
   "outputs": [],
   "source": [
    "# Creating X_train and Y_train data\n",
    "X_train=train.drop(columns=['target'])\n",
    "y_train=train['target']"
   ]
  },
  {
   "cell_type": "code",
   "execution_count": 28,
   "id": "09b91fd2",
   "metadata": {
    "execution": {
     "iopub.execute_input": "2021-11-25T20:24:32.465226Z",
     "iopub.status.busy": "2021-11-25T20:24:32.464621Z",
     "iopub.status.idle": "2021-11-25T20:24:32.469876Z",
     "shell.execute_reply": "2021-11-25T20:24:32.470302Z",
     "shell.execute_reply.started": "2021-11-25T20:17:24.054539Z"
    },
    "papermill": {
     "duration": 0.046154,
     "end_time": "2021-11-25T20:24:32.470473",
     "exception": false,
     "start_time": "2021-11-25T20:24:32.424319",
     "status": "completed"
    },
    "tags": []
   },
   "outputs": [
    {
     "data": {
      "text/plain": [
       "Index(['f0', 'f1', 'f2', 'f3', 'f4', 'f5', 'f6', 'f7', 'f8', 'f9',\n",
       "       ...\n",
       "       'f96', 'f97', 'f98', 'f99', 'sum', 'mean', 'std', 'max', 'min', 'kurt'],\n",
       "      dtype='object', length=106)"
      ]
     },
     "execution_count": 28,
     "metadata": {},
     "output_type": "execute_result"
    }
   ],
   "source": [
    "X_train.columns"
   ]
  },
  {
   "cell_type": "code",
   "execution_count": 29,
   "id": "dc53cf6e",
   "metadata": {
    "execution": {
     "iopub.execute_input": "2021-11-25T20:24:32.551594Z",
     "iopub.status.busy": "2021-11-25T20:24:32.550797Z",
     "iopub.status.idle": "2021-11-25T20:24:32.554944Z",
     "shell.execute_reply": "2021-11-25T20:24:32.555450Z",
     "shell.execute_reply.started": "2021-11-25T20:19:05.724783Z"
    },
    "papermill": {
     "duration": 0.046591,
     "end_time": "2021-11-25T20:24:32.555632",
     "exception": false,
     "start_time": "2021-11-25T20:24:32.509041",
     "status": "completed"
    },
    "tags": []
   },
   "outputs": [
    {
     "data": {
      "text/plain": [
       "Index(['f0', 'f1', 'f2', 'f3', 'f4', 'f5', 'f6', 'f7', 'f8', 'f9',\n",
       "       ...\n",
       "       'f96', 'f97', 'f98', 'f99', 'sum', 'mean', 'std', 'max', 'min', 'kurt'],\n",
       "      dtype='object', length=106)"
      ]
     },
     "execution_count": 29,
     "metadata": {},
     "output_type": "execute_result"
    }
   ],
   "source": [
    "test.columns"
   ]
  },
  {
   "cell_type": "markdown",
   "id": "d870fd44",
   "metadata": {
    "papermill": {
     "duration": 0.038678,
     "end_time": "2021-11-25T20:24:32.633048",
     "exception": false,
     "start_time": "2021-11-25T20:24:32.594370",
     "status": "completed"
    },
    "tags": []
   },
   "source": [
    "## Base Line Model Creation"
   ]
  },
  {
   "cell_type": "markdown",
   "id": "253c8474",
   "metadata": {
    "papermill": {
     "duration": 0.038262,
     "end_time": "2021-11-25T20:24:32.709625",
     "exception": false,
     "start_time": "2021-11-25T20:24:32.671363",
     "status": "completed"
    },
    "tags": []
   },
   "source": [
    "Below code is used for cross validation and model selection , and selected LinearDiscriminantAnalysis() , since it gives best score.\n",
    "And created a model \n",
    "\n",
    "To make understanding simple comment out this process and directly used LinearDiscriminantAnalysis()  model for model creation"
   ]
  },
  {
   "cell_type": "code",
   "execution_count": 30,
   "id": "6c1e0698",
   "metadata": {
    "execution": {
     "iopub.execute_input": "2021-11-25T20:24:32.791369Z",
     "iopub.status.busy": "2021-11-25T20:24:32.790527Z",
     "iopub.status.idle": "2021-11-25T20:24:32.793560Z",
     "shell.execute_reply": "2021-11-25T20:24:32.793032Z",
     "shell.execute_reply.started": "2021-11-25T20:17:24.105702Z"
    },
    "papermill": {
     "duration": 0.045327,
     "end_time": "2021-11-25T20:24:32.793697",
     "exception": false,
     "start_time": "2021-11-25T20:24:32.748370",
     "status": "completed"
    },
    "tags": []
   },
   "outputs": [],
   "source": [
    "# # Cross validate model with Kfold stratified cross val\n",
    "# kfold = StratifiedKFold(n_splits=10)\n",
    "\n",
    "# # Modeling step Test differents algorithms \n",
    "# random_state = 2\n",
    "# classifiers = []\n",
    "# classifiers.append(SVC(random_state=random_state))\n",
    "# classifiers.append(DecisionTreeClassifier(random_state=random_state))\n",
    "# classifiers.append(AdaBoostClassifier(DecisionTreeClassifier(random_state=random_state),random_state=random_state,learning_rate=0.1))\n",
    "# classifiers.append(RandomForestClassifier(random_state=random_state))\n",
    "# classifiers.append(ExtraTreesClassifier(random_state=random_state))\n",
    "# classifiers.append(GradientBoostingClassifier(random_state=random_state))\n",
    "# classifiers.append(MLPClassifier(random_state=random_state))\n",
    "# classifiers.append(KNeighborsClassifier())\n",
    "# classifiers.append(LogisticRegression(random_state = random_state),solver='liblinear')\n",
    "# classifiers.append(LinearDiscriminantAnalysis())\n",
    "\n",
    "\n",
    "# # result into a list \n",
    "\n",
    "# cv_results = []\n",
    "# for classifier in classifiers :\n",
    "#     cv_results.append(cross_val_score(classifier, X_train, y = y_train, scoring = \"accuracy\", cv = kfold, n_jobs=4))\n",
    "    \n",
    "# # mean and std on a list\n",
    "# cv_means = []\n",
    "# cv_std = []\n",
    "# for cv_result in cv_results:\n",
    "#     cv_means.append(cv_result.mean())\n",
    "#     cv_std.append(cv_result.std())\n",
    "    \n"
   ]
  },
  {
   "cell_type": "markdown",
   "id": "19a8538d",
   "metadata": {
    "papermill": {
     "duration": 0.039119,
     "end_time": "2021-11-25T20:24:32.871829",
     "exception": false,
     "start_time": "2021-11-25T20:24:32.832710",
     "status": "completed"
    },
    "tags": []
   },
   "source": [
    "### Model Creation"
   ]
  },
  {
   "cell_type": "code",
   "execution_count": 31,
   "id": "58acc832",
   "metadata": {
    "execution": {
     "iopub.execute_input": "2021-11-25T20:24:32.956827Z",
     "iopub.status.busy": "2021-11-25T20:24:32.956195Z",
     "iopub.status.idle": "2021-11-25T20:24:47.458298Z",
     "shell.execute_reply": "2021-11-25T20:24:47.459238Z",
     "shell.execute_reply.started": "2021-11-25T20:19:12.488062Z"
    },
    "papermill": {
     "duration": 14.548962,
     "end_time": "2021-11-25T20:24:47.459539",
     "exception": false,
     "start_time": "2021-11-25T20:24:32.910577",
     "status": "completed"
    },
    "tags": []
   },
   "outputs": [],
   "source": [
    "clf_lda= LinearDiscriminantAnalysis()#n_estimator is the only main hp we optimize in RF,\n",
    "#In practice, adjusting only one of these (e.g. max_depth) is enough to reduce overfitting\n",
    "clf_lda.fit(X_train, y_train)\n",
    "\n",
    "clf_lda.score(X_train,y_train)\n",
    "\n",
    "y_test_predict= clf_lda.predict(test)  # this is just to predict like a normal binary classification\n",
    "y_test_predict_proba_lda= clf_lda.predict_proba(test)[:,1]"
   ]
  },
  {
   "cell_type": "markdown",
   "id": "92398c1e",
   "metadata": {
    "papermill": {
     "duration": 0.050125,
     "end_time": "2021-11-25T20:24:47.584505",
     "exception": false,
     "start_time": "2021-11-25T20:24:47.534380",
     "status": "completed"
    },
    "tags": []
   },
   "source": [
    "below code is to submit the probability for LDA model only"
   ]
  },
  {
   "cell_type": "code",
   "execution_count": 32,
   "id": "6c3e2ea6",
   "metadata": {
    "execution": {
     "iopub.execute_input": "2021-11-25T20:24:47.662214Z",
     "iopub.status.busy": "2021-11-25T20:24:47.661527Z",
     "iopub.status.idle": "2021-11-25T20:24:47.663804Z",
     "shell.execute_reply": "2021-11-25T20:24:47.664274Z",
     "shell.execute_reply.started": "2021-11-25T20:17:24.108963Z"
    },
    "papermill": {
     "duration": 0.043255,
     "end_time": "2021-11-25T20:24:47.664439",
     "exception": false,
     "start_time": "2021-11-25T20:24:47.621184",
     "status": "completed"
    },
    "tags": []
   },
   "outputs": [],
   "source": [
    "# submission = pd.DataFrame({'id': df_test['id'], 'target': y_test_predict_proba_lda})\n",
    "# submission.to_csv('submission.csv', index=False)\n",
    "# submission.head(3)"
   ]
  },
  {
   "cell_type": "markdown",
   "id": "27bffd1b",
   "metadata": {
    "papermill": {
     "duration": 0.036728,
     "end_time": "2021-11-25T20:24:47.738127",
     "exception": false,
     "start_time": "2021-11-25T20:24:47.701399",
     "status": "completed"
    },
    "tags": []
   },
   "source": [
    "### Ensemble model with logistic and LDA"
   ]
  },
  {
   "cell_type": "code",
   "execution_count": 33,
   "id": "6605fd50",
   "metadata": {
    "execution": {
     "iopub.execute_input": "2021-11-25T20:24:47.821429Z",
     "iopub.status.busy": "2021-11-25T20:24:47.820711Z",
     "iopub.status.idle": "2021-11-25T20:27:35.992346Z",
     "shell.execute_reply": "2021-11-25T20:27:35.992836Z",
     "shell.execute_reply.started": "2021-11-25T20:19:27.096410Z"
    },
    "papermill": {
     "duration": 168.21701,
     "end_time": "2021-11-25T20:27:35.993195",
     "exception": false,
     "start_time": "2021-11-25T20:24:47.776185",
     "status": "completed"
    },
    "tags": []
   },
   "outputs": [],
   "source": [
    "random_state = 2\n",
    "clf_log = LogisticRegression(random_state = random_state,solver='liblinear')\n",
    "clf_log.fit(X_train,y_train)\n",
    "\n",
    "clf_log.score(X_train,y_train)\n",
    "\n",
    "#y_test_predict= clf_log.predict(test) \n",
    "y_test_predict_proba_log= clf_log.predict_proba(test)[:,1]"
   ]
  },
  {
   "cell_type": "markdown",
   "id": "3d7b7760",
   "metadata": {
    "papermill": {
     "duration": 0.045059,
     "end_time": "2021-11-25T20:27:36.115427",
     "exception": false,
     "start_time": "2021-11-25T20:27:36.070368",
     "status": "completed"
    },
    "tags": []
   },
   "source": [
    "### Ensemble model creation using Log and LDA"
   ]
  },
  {
   "cell_type": "code",
   "execution_count": 34,
   "id": "795960aa",
   "metadata": {
    "execution": {
     "iopub.execute_input": "2021-11-25T20:27:36.213096Z",
     "iopub.status.busy": "2021-11-25T20:27:36.212314Z",
     "iopub.status.idle": "2021-11-25T20:27:36.224065Z",
     "shell.execute_reply": "2021-11-25T20:27:36.224527Z",
     "shell.execute_reply.started": "2021-11-25T20:22:29.130600Z"
    },
    "papermill": {
     "duration": 0.066482,
     "end_time": "2021-11-25T20:27:36.224707",
     "exception": false,
     "start_time": "2021-11-25T20:27:36.158225",
     "status": "completed"
    },
    "tags": []
   },
   "outputs": [
    {
     "data": {
      "text/html": [
       "<div>\n",
       "<style scoped>\n",
       "    .dataframe tbody tr th:only-of-type {\n",
       "        vertical-align: middle;\n",
       "    }\n",
       "\n",
       "    .dataframe tbody tr th {\n",
       "        vertical-align: top;\n",
       "    }\n",
       "\n",
       "    .dataframe thead th {\n",
       "        text-align: right;\n",
       "    }\n",
       "</style>\n",
       "<table border=\"1\" class=\"dataframe\">\n",
       "  <thead>\n",
       "    <tr style=\"text-align: right;\">\n",
       "      <th></th>\n",
       "      <th>id</th>\n",
       "      <th>target_log</th>\n",
       "      <th>target_lda</th>\n",
       "    </tr>\n",
       "  </thead>\n",
       "  <tbody>\n",
       "    <tr>\n",
       "      <th>0</th>\n",
       "      <td>600000</td>\n",
       "      <td>0.677798</td>\n",
       "      <td>0.682093</td>\n",
       "    </tr>\n",
       "    <tr>\n",
       "      <th>1</th>\n",
       "      <td>600001</td>\n",
       "      <td>0.620444</td>\n",
       "      <td>0.619702</td>\n",
       "    </tr>\n",
       "  </tbody>\n",
       "</table>\n",
       "</div>"
      ],
      "text/plain": [
       "       id  target_log  target_lda\n",
       "0  600000    0.677798    0.682093\n",
       "1  600001    0.620444    0.619702"
      ]
     },
     "execution_count": 34,
     "metadata": {},
     "output_type": "execute_result"
    }
   ],
   "source": [
    "ensemble = pd.DataFrame({'id': df_test['id'], 'target_log': y_test_predict_proba_log,'target_lda': y_test_predict_proba_lda})\n",
    "targets=['target_lda','target_log']\n",
    "ensemble.head(2)"
   ]
  },
  {
   "cell_type": "markdown",
   "id": "fdbc4dbd",
   "metadata": {
    "papermill": {
     "duration": 0.037747,
     "end_time": "2021-11-25T20:27:36.310034",
     "exception": false,
     "start_time": "2021-11-25T20:27:36.272287",
     "status": "completed"
    },
    "tags": []
   },
   "source": [
    "### Submission"
   ]
  },
  {
   "cell_type": "code",
   "execution_count": 35,
   "id": "89cbe3d2",
   "metadata": {
    "execution": {
     "iopub.execute_input": "2021-11-25T20:27:36.394901Z",
     "iopub.status.busy": "2021-11-25T20:27:36.393677Z",
     "iopub.status.idle": "2021-11-25T20:27:37.687953Z",
     "shell.execute_reply": "2021-11-25T20:27:37.687352Z",
     "shell.execute_reply.started": "2021-11-25T20:22:29.152847Z"
    },
    "papermill": {
     "duration": 1.340734,
     "end_time": "2021-11-25T20:27:37.688095",
     "exception": false,
     "start_time": "2021-11-25T20:27:36.347361",
     "status": "completed"
    },
    "tags": []
   },
   "outputs": [],
   "source": [
    "#Submission\n",
    "submission = pd.DataFrame({'id': df_test['id'], 'target': ensemble[targets].mean(axis=1)})\n",
    "submission.to_csv('submission.csv', index=False)"
   ]
  }
 ],
 "metadata": {
  "kernelspec": {
   "display_name": "Python 3",
   "language": "python",
   "name": "python3"
  },
  "language_info": {
   "codemirror_mode": {
    "name": "ipython",
    "version": 3
   },
   "file_extension": ".py",
   "mimetype": "text/x-python",
   "name": "python",
   "nbconvert_exporter": "python",
   "pygments_lexer": "ipython3",
   "version": "3.7.10"
  },
  "papermill": {
   "default_parameters": {},
   "duration": 233.081318,
   "end_time": "2021-11-25T20:27:38.436637",
   "environment_variables": {},
   "exception": null,
   "input_path": "__notebook__.ipynb",
   "output_path": "__notebook__.ipynb",
   "parameters": {},
   "start_time": "2021-11-25T20:23:45.355319",
   "version": "2.3.3"
  }
 },
 "nbformat": 4,
 "nbformat_minor": 5
}
